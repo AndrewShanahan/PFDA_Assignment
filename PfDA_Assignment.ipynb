{
 "cells": [
  {
   "cell_type": "markdown",
   "id": "5f040759",
   "metadata": {},
   "source": [
    "# Programming for DataAnalysis Assignment"
   ]
  },
  {
   "cell_type": "markdown",
   "id": "109b2cde",
   "metadata": {},
   "source": [
    "Import libraries\n",
    "Settings etc if relevant\n",
    "\n",
    "import data: airbnb = pd.read.csv(\"...link...\")\n",
    "\n",
    "1. Introduction\n",
    "2. Data Exploration\n",
    "3. plots/grahps\n",
    "4. Examining relationships\n",
    "5. Interpreting the Data\n",
    "6. Snthesising the Data\n",
    "7. Graphical Representation of the data\n",
    "8. Concatenating the data\n",
    "9. Conclusion\n",
    "10. references\n",
    "\n",
    "READ me file\n"
   ]
  },
  {
   "cell_type": "code",
   "execution_count": null,
   "id": "c3ac5ec1",
   "metadata": {},
   "outputs": [],
   "source": [
    "test"
   ]
  },
  {
   "cell_type": "code",
   "execution_count": null,
   "id": "2c34b783",
   "metadata": {},
   "outputs": [],
   "source": []
  },
  {
   "cell_type": "raw",
   "id": "d9969409",
   "metadata": {},
   "source": [
    "Programming for Data Analysis Project"
   ]
  },
  {
   "cell_type": "markdown",
   "id": "4dcf97ff",
   "metadata": {},
   "source": [
    "This notebook contains my submission for the project for the Programming for Data Analysis module, Winter 2022."
   ]
  },
  {
   "cell_type": "markdown",
   "id": "6dde62be",
   "metadata": {},
   "source": [
    "Module/Librairies required:"
   ]
  },
  {
   "cell_type": "code",
   "execution_count": null,
   "id": "69c41464",
   "metadata": {},
   "outputs": [],
   "source": [
    "# NumPy for numerical operations\n",
    "import numpy as np\n",
    "\n",
    "# Pandas for data analysis\n",
    "import pandas as pd\n",
    "\n",
    "# Statistics for descriptive statistics\n",
    "import statistics\n",
    "\n",
    "# Matplotlib.pyplot for plotting\n",
    "import matplotlib.pyplot as plt\n",
    "\n",
    "\n",
    "#etc etc, need to evolve as others come up in analysis..."
   ]
  },
  {
   "cell_type": "markdown",
   "id": "5a23f857",
   "metadata": {},
   "source": [
    "Project Requirement - Problem Statement:"
   ]
  },
  {
   "cell_type": "markdown",
   "id": "eda37c78",
   "metadata": {},
   "source": [
    "Scope:"
   ]
  },
  {
   "cell_type": "code",
   "execution_count": null,
   "id": "a7451c6a",
   "metadata": {},
   "outputs": [],
   "source": [
    "Variables to Investigate:"
   ]
  },
  {
   "cell_type": "code",
   "execution_count": null,
   "id": "a3b49de1",
   "metadata": {},
   "outputs": [],
   "source": [
    "Background:"
   ]
  },
  {
   "cell_type": "markdown",
   "id": "ba773f8b",
   "metadata": {},
   "source": [
    "Analysis"
   ]
  },
  {
   "cell_type": "markdown",
   "id": "f5bdeb70",
   "metadata": {},
   "source": [
    "Plotting Results"
   ]
  },
  {
   "cell_type": "markdown",
   "id": "16e45248",
   "metadata": {},
   "source": [
    "Conclusion"
   ]
  },
  {
   "cell_type": "markdown",
   "id": "d2223b7b",
   "metadata": {},
   "source": [
    "References & Data Sources"
   ]
  },
  {
   "cell_type": "code",
   "execution_count": null,
   "id": "cb5fd06c",
   "metadata": {},
   "outputs": [],
   "source": []
  },
  {
   "cell_type": "code",
   "execution_count": null,
   "id": "d2154e12",
   "metadata": {},
   "outputs": [],
   "source": []
  },
  {
   "cell_type": "code",
   "execution_count": null,
   "id": "6b40e3a1",
   "metadata": {},
   "outputs": [],
   "source": []
  }
 ],
 "metadata": {
  "kernelspec": {
   "display_name": "Python 3 (ipykernel)",
   "language": "python",
   "name": "python3"
  },
  "language_info": {
   "codemirror_mode": {
    "name": "ipython",
    "version": 3
   },
   "file_extension": ".py",
   "mimetype": "text/x-python",
   "name": "python",
   "nbconvert_exporter": "python",
   "pygments_lexer": "ipython3",
   "version": "3.9.7"
  }
 },
 "nbformat": 4,
 "nbformat_minor": 5
}
