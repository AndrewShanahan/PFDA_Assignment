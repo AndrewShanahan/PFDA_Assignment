{
 "cells": [
  {
   "cell_type": "markdown",
   "id": "5f040759",
   "metadata": {},
   "source": [
    "# Programming for DataAnalysis Assignment"
   ]
  },
  {
   "cell_type": "markdown",
   "id": "109b2cde",
   "metadata": {},
   "source": [
    "Import libraries\n",
    "Settings etc if relevant\n",
    "\n",
    "import data: airbnb = pd.read.csv(\"...link...\")\n",
    "\n",
    "1. Introduction\n",
    "2. Data Exploration\n",
    "3. plots/grahps\n",
    "4. Examining relationships\n",
    "5. Interpreting the Data\n",
    "6. Snthesising the Data\n",
    "7. Graphical Representation of the data\n",
    "8. Concatenating the data\n",
    "9. Conclusion\n",
    "10. references\n",
    "\n",
    "READ me file\n"
   ]
  },
  {
   "cell_type": "code",
   "execution_count": null,
   "id": "c3ac5ec1",
   "metadata": {},
   "outputs": [],
   "source": []
  },
  {
   "cell_type": "code",
   "execution_count": null,
   "id": "2c34b783",
   "metadata": {},
   "outputs": [],
   "source": []
  },
  {
   "cell_type": "code",
   "execution_count": null,
   "id": "1e0f92ec",
   "metadata": {},
   "outputs": [],
   "source": []
  },
  {
   "cell_type": "code",
   "execution_count": null,
   "id": "d29b504a",
   "metadata": {},
   "outputs": [],
   "source": []
  },
  {
   "cell_type": "code",
   "execution_count": null,
   "id": "0e3ef569",
   "metadata": {},
   "outputs": [],
   "source": []
  },
  {
   "cell_type": "code",
   "execution_count": null,
   "id": "69c41464",
   "metadata": {},
   "outputs": [],
   "source": []
  },
  {
   "cell_type": "code",
   "execution_count": null,
   "id": "e4b2fd99",
   "metadata": {},
   "outputs": [],
   "source": []
  }
 ],
 "metadata": {
  "kernelspec": {
   "display_name": "Python 3 (ipykernel)",
   "language": "python",
   "name": "python3"
  },
  "language_info": {
   "codemirror_mode": {
    "name": "ipython",
    "version": 3
   },
   "file_extension": ".py",
   "mimetype": "text/x-python",
   "name": "python",
   "nbconvert_exporter": "python",
   "pygments_lexer": "ipython3",
   "version": "3.9.7"
  }
 },
 "nbformat": 4,
 "nbformat_minor": 5
}
