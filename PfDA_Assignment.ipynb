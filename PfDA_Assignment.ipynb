{
 "cells": [
  {
   "cell_type": "markdown",
   "id": "5f040759",
   "metadata": {},
   "source": [
    "# Programming for Data Analysis Assignment"
   ]
  },
  {
   "cell_type": "markdown",
   "id": "f3c109d8",
   "metadata": {},
   "source": [
    "This notebook contains my submission for the project for the Programming for Data Analysis module, Winter 2022.\n",
    "\n",
    "I have selected to analyse Airbnb listings in Dublin, Ireland. This analysis will focus on rating scores.\n",
    "\n",
    "Problem Statement:\n",
    "\n",
    "For this project you must create a data set by simulating a real-world phenomenon of your choosing. You may pick any phenomenon you wish – you might pick one that is of interest to you in your personal or professional life. Then, rather than collect data\n",
    "related to the phenomenon, you should model and synthesise such data using Python. We suggest you use the numpy.random package for this purpose. Specifically, in this project you should:\n",
    "\n",
    "* Choose a real-world phenomenon that can be measured and for which you could collect at least one-hundred data points across at least four different variables.\n",
    "* Investigate the types of variables involved, their likely distributions, and their relationships with each other. * Synthesise/simulate a data set as closely matching their properties as possible.\n",
    "* Detail your research and implement the simulation in a Jupyter Notebook – the data set itself can simply be displayed in an output cell within the notebook.\n",
    "\n",
    "Note that this project is about simulation – you must synthesise a data set. Some students may already have some real-world data sets in their own files. It is okay to base your synthesised data set on these should you wish (please reference it if you do), but the main task in this project is to create a synthesised data set. The next section\n",
    "gives an example project idea.\n",
    "\n",
    "### Assumptions\n",
    "\n",
    "We assume that all the data from data sources (Airbnb) is correct in terms of values, addresses and their corresponding location.\n",
    "\n",
    "Prices of properties are not affected by seasonality."
   ]
  },
  {
   "cell_type": "markdown",
   "id": "af3b834e",
   "metadata": {},
   "source": [
    "![Image2](https://www.independent.ie/news/b7e3b/41599548.ece/AUTOCROP/w1240/AIRBNB-IPOFEES%20SPARE)"
   ]
  },
  {
   "cell_type": "markdown",
   "id": "d50e5da2",
   "metadata": {},
   "source": [
    "### Step 1: Import required libraries"
   ]
  },
  {
   "cell_type": "code",
   "execution_count": 1,
   "id": "69c41464",
   "metadata": {},
   "outputs": [],
   "source": [
    "# NumPy for numerical operations\n",
    "import numpy as np\n",
    "\n",
    "# Pandas for data analysis\n",
    "import pandas as pd\n",
    "\n",
    "# seaborn\n",
    "import seaborn as sns\n",
    "\n",
    "# random\n",
    "import random\n",
    "\n",
    "from scipy.stats import norm\n",
    "\n",
    "# Statistics for descriptive statistics\n",
    "import statistics\n",
    "\n",
    "# Matplotlib.pyplot for plotting\n",
    "import matplotlib.pyplot as plt\n",
    "\n",
    "# sklearn\n",
    "import sklearn.neighbors as nei\n",
    "\n",
    "from sklearn.neighbors import KNeighborsClassifier\n",
    "\n",
    "# Dataset URL. Please note that this CSV file is compressed due to its size\n",
    "url=\"http://data.insideairbnb.com/ireland/leinster/dublin/2022-09-11/data/listings.csv.gz\"\n",
    "\n",
    "# Importing the CSV file:\n",
    "listingsDF = pd.read_csv(url, compression=\"gzip\")"
   ]
  },
  {
   "cell_type": "code",
   "execution_count": 2,
   "id": "8cd73a6f",
   "metadata": {},
   "outputs": [
    {
     "data": {
      "text/plain": [
       "(7566, 75)"
      ]
     },
     "execution_count": 2,
     "metadata": {},
     "output_type": "execute_result"
    }
   ],
   "source": [
    "# As this is a zipped file, firstly I want to have a quick look and see the size of the data I am dealing with\n",
    "listingsDF.shape"
   ]
  },
  {
   "cell_type": "markdown",
   "id": "a64ff6f1",
   "metadata": {},
   "source": [
    "### Step 2: Explore and understand the data and data remediation<br>"
   ]
  },
  {
   "cell_type": "code",
   "execution_count": 17,
   "id": "f5316fa6",
   "metadata": {},
   "outputs": [
    {
     "data": {
      "text/plain": [
       "Index(['id', 'listing_url', 'scrape_id', 'last_scraped', 'source', 'name',\n",
       "       'description', 'neighborhood_overview', 'picture_url', 'host_id',\n",
       "       'host_url', 'host_name', 'host_since', 'host_location', 'host_about',\n",
       "       'host_response_time', 'host_response_rate', 'host_acceptance_rate',\n",
       "       'host_is_superhost', 'host_thumbnail_url', 'host_picture_url',\n",
       "       'host_neighbourhood', 'host_listings_count',\n",
       "       'host_total_listings_count', 'host_verifications',\n",
       "       'host_has_profile_pic', 'host_identity_verified', 'neighbourhood',\n",
       "       'neighbourhood_cleansed', 'neighbourhood_group_cleansed', 'latitude',\n",
       "       'longitude', 'property_type', 'room_type', 'accommodates', 'bathrooms',\n",
       "       'bathrooms_text', 'bedrooms', 'beds', 'amenities', 'price',\n",
       "       'minimum_nights', 'maximum_nights', 'minimum_minimum_nights',\n",
       "       'maximum_minimum_nights', 'minimum_maximum_nights',\n",
       "       'maximum_maximum_nights', 'minimum_nights_avg_ntm',\n",
       "       'maximum_nights_avg_ntm', 'calendar_updated', 'has_availability',\n",
       "       'availability_30', 'availability_60', 'availability_90',\n",
       "       'availability_365', 'calendar_last_scraped', 'number_of_reviews',\n",
       "       'number_of_reviews_ltm', 'number_of_reviews_l30d', 'first_review',\n",
       "       'last_review', 'review_scores_rating', 'review_scores_accuracy',\n",
       "       'review_scores_cleanliness', 'review_scores_checkin',\n",
       "       'review_scores_communication', 'review_scores_location',\n",
       "       'review_scores_value', 'license', 'instant_bookable',\n",
       "       'calculated_host_listings_count',\n",
       "       'calculated_host_listings_count_entire_homes',\n",
       "       'calculated_host_listings_count_private_rooms',\n",
       "       'calculated_host_listings_count_shared_rooms', 'reviews_per_month'],\n",
       "      dtype='object')"
      ]
     },
     "execution_count": 17,
     "metadata": {},
     "output_type": "execute_result"
    }
   ],
   "source": [
    "listingsDF.columns"
   ]
  },
  {
   "cell_type": "code",
   "execution_count": 42,
   "id": "1d1f73da",
   "metadata": {},
   "outputs": [
    {
     "data": {
      "text/html": [
       "<div>\n",
       "<style scoped>\n",
       "    .dataframe tbody tr th:only-of-type {\n",
       "        vertical-align: middle;\n",
       "    }\n",
       "\n",
       "    .dataframe tbody tr th {\n",
       "        vertical-align: top;\n",
       "    }\n",
       "\n",
       "    .dataframe thead th {\n",
       "        text-align: right;\n",
       "    }\n",
       "</style>\n",
       "<table border=\"1\" class=\"dataframe\">\n",
       "  <thead>\n",
       "    <tr style=\"text-align: right;\">\n",
       "      <th></th>\n",
       "      <th>id</th>\n",
       "      <th>listing_url</th>\n",
       "      <th>scrape_id</th>\n",
       "      <th>last_scraped</th>\n",
       "      <th>source</th>\n",
       "      <th>name</th>\n",
       "      <th>description</th>\n",
       "      <th>neighborhood_overview</th>\n",
       "      <th>picture_url</th>\n",
       "      <th>host_id</th>\n",
       "      <th>...</th>\n",
       "      <th>review_scores_communication</th>\n",
       "      <th>review_scores_location</th>\n",
       "      <th>review_scores_value</th>\n",
       "      <th>license</th>\n",
       "      <th>instant_bookable</th>\n",
       "      <th>calculated_host_listings_count</th>\n",
       "      <th>calculated_host_listings_count_entire_homes</th>\n",
       "      <th>calculated_host_listings_count_private_rooms</th>\n",
       "      <th>calculated_host_listings_count_shared_rooms</th>\n",
       "      <th>reviews_per_month</th>\n",
       "    </tr>\n",
       "  </thead>\n",
       "  <tbody>\n",
       "    <tr>\n",
       "      <th>0</th>\n",
       "      <td>44077</td>\n",
       "      <td>https://www.airbnb.com/rooms/44077</td>\n",
       "      <td>20220911231053</td>\n",
       "      <td>2022-09-12</td>\n",
       "      <td>city scrape</td>\n",
       "      <td>cosy comfortable Irish cottage twin</td>\n",
       "      <td>Our house was built in 1937 when there was ple...</td>\n",
       "      <td>I like our neighbourhood as there is no shorta...</td>\n",
       "      <td>https://a0.muscache.com/pictures/525706/050a3a...</td>\n",
       "      <td>193005</td>\n",
       "      <td>...</td>\n",
       "      <td>4.93</td>\n",
       "      <td>4.66</td>\n",
       "      <td>4.82</td>\n",
       "      <td>NaN</td>\n",
       "      <td>f</td>\n",
       "      <td>2</td>\n",
       "      <td>0</td>\n",
       "      <td>2</td>\n",
       "      <td>0</td>\n",
       "      <td>1.85</td>\n",
       "    </tr>\n",
       "    <tr>\n",
       "      <th>1</th>\n",
       "      <td>85156</td>\n",
       "      <td>https://www.airbnb.com/rooms/85156</td>\n",
       "      <td>20220911231053</td>\n",
       "      <td>2022-09-12</td>\n",
       "      <td>city scrape</td>\n",
       "      <td>Cosy Comfortable Irish Cottage  1 Double Bed</td>\n",
       "      <td>Our Cottage is a charming light filled cottage...</td>\n",
       "      <td>I love Dundrum and its surrounding areas ,&lt;br ...</td>\n",
       "      <td>https://a0.muscache.com/pictures/1749253/9ed2a...</td>\n",
       "      <td>193005</td>\n",
       "      <td>...</td>\n",
       "      <td>4.88</td>\n",
       "      <td>4.64</td>\n",
       "      <td>4.78</td>\n",
       "      <td>NaN</td>\n",
       "      <td>f</td>\n",
       "      <td>2</td>\n",
       "      <td>0</td>\n",
       "      <td>2</td>\n",
       "      <td>0</td>\n",
       "      <td>1.53</td>\n",
       "    </tr>\n",
       "    <tr>\n",
       "      <th>2</th>\n",
       "      <td>159889</td>\n",
       "      <td>https://www.airbnb.com/rooms/159889</td>\n",
       "      <td>20220911231053</td>\n",
       "      <td>2022-09-12</td>\n",
       "      <td>city scrape</td>\n",
       "      <td>Friendly Single Room</td>\n",
       "      <td>Washing can be done at a cost of €5  per load....</td>\n",
       "      <td>Plenty of buses into the city and the area is ...</td>\n",
       "      <td>https://a0.muscache.com/pictures/3031697/a8259...</td>\n",
       "      <td>766611</td>\n",
       "      <td>...</td>\n",
       "      <td>4.90</td>\n",
       "      <td>4.63</td>\n",
       "      <td>4.74</td>\n",
       "      <td>NaN</td>\n",
       "      <td>f</td>\n",
       "      <td>3</td>\n",
       "      <td>0</td>\n",
       "      <td>3</td>\n",
       "      <td>0</td>\n",
       "      <td>2.78</td>\n",
       "    </tr>\n",
       "    <tr>\n",
       "      <th>3</th>\n",
       "      <td>162809</td>\n",
       "      <td>https://www.airbnb.com/rooms/162809</td>\n",
       "      <td>20220911231053</td>\n",
       "      <td>2022-09-11</td>\n",
       "      <td>city scrape</td>\n",
       "      <td>5.5 miles south of Dublin City :^)</td>\n",
       "      <td>A nice place to relax after the bustle of the ...</td>\n",
       "      <td>Close to the sea, hill walks and the city - vi...</td>\n",
       "      <td>https://a0.muscache.com/pictures/86694529/c07b...</td>\n",
       "      <td>777681</td>\n",
       "      <td>...</td>\n",
       "      <td>4.97</td>\n",
       "      <td>4.77</td>\n",
       "      <td>4.85</td>\n",
       "      <td>NaN</td>\n",
       "      <td>f</td>\n",
       "      <td>2</td>\n",
       "      <td>0</td>\n",
       "      <td>2</td>\n",
       "      <td>0</td>\n",
       "      <td>3.68</td>\n",
       "    </tr>\n",
       "    <tr>\n",
       "      <th>4</th>\n",
       "      <td>165828</td>\n",
       "      <td>https://www.airbnb.com/rooms/165828</td>\n",
       "      <td>20220911231053</td>\n",
       "      <td>2022-09-11</td>\n",
       "      <td>city scrape</td>\n",
       "      <td>Pádraig Pearse apt. Kilmainham</td>\n",
       "      <td>Don't just visit Dublin, experience Dublin in ...</td>\n",
       "      <td>Enjoy a walk along the grand canal, or just ob...</td>\n",
       "      <td>https://a0.muscache.com/pictures/34311419/b3f6...</td>\n",
       "      <td>790601</td>\n",
       "      <td>...</td>\n",
       "      <td>4.75</td>\n",
       "      <td>4.34</td>\n",
       "      <td>4.55</td>\n",
       "      <td>NaN</td>\n",
       "      <td>t</td>\n",
       "      <td>5</td>\n",
       "      <td>5</td>\n",
       "      <td>0</td>\n",
       "      <td>0</td>\n",
       "      <td>0.48</td>\n",
       "    </tr>\n",
       "  </tbody>\n",
       "</table>\n",
       "<p>5 rows × 75 columns</p>\n",
       "</div>"
      ],
      "text/plain": [
       "       id                          listing_url       scrape_id last_scraped  \\\n",
       "0   44077   https://www.airbnb.com/rooms/44077  20220911231053   2022-09-12   \n",
       "1   85156   https://www.airbnb.com/rooms/85156  20220911231053   2022-09-12   \n",
       "2  159889  https://www.airbnb.com/rooms/159889  20220911231053   2022-09-12   \n",
       "3  162809  https://www.airbnb.com/rooms/162809  20220911231053   2022-09-11   \n",
       "4  165828  https://www.airbnb.com/rooms/165828  20220911231053   2022-09-11   \n",
       "\n",
       "        source                                          name  \\\n",
       "0  city scrape           cosy comfortable Irish cottage twin   \n",
       "1  city scrape  Cosy Comfortable Irish Cottage  1 Double Bed   \n",
       "2  city scrape                          Friendly Single Room   \n",
       "3  city scrape            5.5 miles south of Dublin City :^)   \n",
       "4  city scrape                Pádraig Pearse apt. Kilmainham   \n",
       "\n",
       "                                         description  \\\n",
       "0  Our house was built in 1937 when there was ple...   \n",
       "1  Our Cottage is a charming light filled cottage...   \n",
       "2  Washing can be done at a cost of €5  per load....   \n",
       "3  A nice place to relax after the bustle of the ...   \n",
       "4  Don't just visit Dublin, experience Dublin in ...   \n",
       "\n",
       "                               neighborhood_overview  \\\n",
       "0  I like our neighbourhood as there is no shorta...   \n",
       "1  I love Dundrum and its surrounding areas ,<br ...   \n",
       "2  Plenty of buses into the city and the area is ...   \n",
       "3  Close to the sea, hill walks and the city - vi...   \n",
       "4  Enjoy a walk along the grand canal, or just ob...   \n",
       "\n",
       "                                         picture_url  host_id  ...  \\\n",
       "0  https://a0.muscache.com/pictures/525706/050a3a...   193005  ...   \n",
       "1  https://a0.muscache.com/pictures/1749253/9ed2a...   193005  ...   \n",
       "2  https://a0.muscache.com/pictures/3031697/a8259...   766611  ...   \n",
       "3  https://a0.muscache.com/pictures/86694529/c07b...   777681  ...   \n",
       "4  https://a0.muscache.com/pictures/34311419/b3f6...   790601  ...   \n",
       "\n",
       "  review_scores_communication review_scores_location review_scores_value  \\\n",
       "0                        4.93                   4.66                4.82   \n",
       "1                        4.88                   4.64                4.78   \n",
       "2                        4.90                   4.63                4.74   \n",
       "3                        4.97                   4.77                4.85   \n",
       "4                        4.75                   4.34                4.55   \n",
       "\n",
       "  license instant_bookable calculated_host_listings_count  \\\n",
       "0     NaN                f                              2   \n",
       "1     NaN                f                              2   \n",
       "2     NaN                f                              3   \n",
       "3     NaN                f                              2   \n",
       "4     NaN                t                              5   \n",
       "\n",
       "  calculated_host_listings_count_entire_homes  \\\n",
       "0                                           0   \n",
       "1                                           0   \n",
       "2                                           0   \n",
       "3                                           0   \n",
       "4                                           5   \n",
       "\n",
       "  calculated_host_listings_count_private_rooms  \\\n",
       "0                                            2   \n",
       "1                                            2   \n",
       "2                                            3   \n",
       "3                                            2   \n",
       "4                                            0   \n",
       "\n",
       "  calculated_host_listings_count_shared_rooms reviews_per_month  \n",
       "0                                           0              1.85  \n",
       "1                                           0              1.53  \n",
       "2                                           0              2.78  \n",
       "3                                           0              3.68  \n",
       "4                                           0              0.48  \n",
       "\n",
       "[5 rows x 75 columns]"
      ]
     },
     "execution_count": 42,
     "metadata": {},
     "output_type": "execute_result"
    }
   ],
   "source": [
    "# Having an initial look at the data\n",
    "\n",
    "listingsDF.head()"
   ]
  },
  {
   "cell_type": "code",
   "execution_count": 43,
   "id": "4048ae2e",
   "metadata": {},
   "outputs": [
    {
     "name": "stdout",
     "output_type": "stream",
     "text": [
      "<class 'pandas.core.frame.DataFrame'>\n",
      "RangeIndex: 7566 entries, 0 to 7565\n",
      "Data columns (total 75 columns):\n",
      " #   Column                                        Non-Null Count  Dtype  \n",
      "---  ------                                        --------------  -----  \n",
      " 0   id                                            7566 non-null   int64  \n",
      " 1   listing_url                                   7566 non-null   object \n",
      " 2   scrape_id                                     7566 non-null   int64  \n",
      " 3   last_scraped                                  7566 non-null   object \n",
      " 4   source                                        7566 non-null   object \n",
      " 5   name                                          7566 non-null   object \n",
      " 6   description                                   7411 non-null   object \n",
      " 7   neighborhood_overview                         4194 non-null   object \n",
      " 8   picture_url                                   7566 non-null   object \n",
      " 9   host_id                                       7566 non-null   int64  \n",
      " 10  host_url                                      7566 non-null   object \n",
      " 11  host_name                                     7566 non-null   object \n",
      " 12  host_since                                    7566 non-null   object \n",
      " 13  host_location                                 6232 non-null   object \n",
      " 14  host_about                                    3556 non-null   object \n",
      " 15  host_response_time                            3932 non-null   object \n",
      " 16  host_response_rate                            3932 non-null   object \n",
      " 17  host_acceptance_rate                          4191 non-null   object \n",
      " 18  host_is_superhost                             7566 non-null   object \n",
      " 19  host_thumbnail_url                            7566 non-null   object \n",
      " 20  host_picture_url                              7566 non-null   object \n",
      " 21  host_neighbourhood                            5234 non-null   object \n",
      " 22  host_listings_count                           7566 non-null   int64  \n",
      " 23  host_total_listings_count                     7566 non-null   int64  \n",
      " 24  host_verifications                            7566 non-null   object \n",
      " 25  host_has_profile_pic                          7566 non-null   object \n",
      " 26  host_identity_verified                        7566 non-null   object \n",
      " 27  neighbourhood                                 4194 non-null   object \n",
      " 28  neighbourhood_cleansed                        7566 non-null   object \n",
      " 29  neighbourhood_group_cleansed                  0 non-null      float64\n",
      " 30  latitude                                      7566 non-null   float64\n",
      " 31  longitude                                     7566 non-null   float64\n",
      " 32  property_type                                 7566 non-null   object \n",
      " 33  room_type                                     7566 non-null   object \n",
      " 34  accommodates                                  7566 non-null   int64  \n",
      " 35  bathrooms                                     0 non-null      float64\n",
      " 36  bathrooms_text                                7562 non-null   object \n",
      " 37  bedrooms                                      7361 non-null   float64\n",
      " 38  beds                                          7472 non-null   float64\n",
      " 39  amenities                                     7566 non-null   object \n",
      " 40  price                                         7566 non-null   object \n",
      " 41  minimum_nights                                7566 non-null   int64  \n",
      " 42  maximum_nights                                7566 non-null   int64  \n",
      " 43  minimum_minimum_nights                        7566 non-null   int64  \n",
      " 44  maximum_minimum_nights                        7566 non-null   int64  \n",
      " 45  minimum_maximum_nights                        7566 non-null   int64  \n",
      " 46  maximum_maximum_nights                        7566 non-null   int64  \n",
      " 47  minimum_nights_avg_ntm                        7566 non-null   float64\n",
      " 48  maximum_nights_avg_ntm                        7566 non-null   float64\n",
      " 49  calendar_updated                              0 non-null      float64\n",
      " 50  has_availability                              7566 non-null   object \n",
      " 51  availability_30                               7566 non-null   int64  \n",
      " 52  availability_60                               7566 non-null   int64  \n",
      " 53  availability_90                               7566 non-null   int64  \n",
      " 54  availability_365                              7566 non-null   int64  \n",
      " 55  calendar_last_scraped                         7566 non-null   object \n",
      " 56  number_of_reviews                             7566 non-null   int64  \n",
      " 57  number_of_reviews_ltm                         7566 non-null   int64  \n",
      " 58  number_of_reviews_l30d                        7566 non-null   int64  \n",
      " 59  first_review                                  6209 non-null   object \n",
      " 60  last_review                                   6209 non-null   object \n",
      " 61  review_scores_rating                          6209 non-null   float64\n",
      " 62  review_scores_accuracy                        6085 non-null   float64\n",
      " 63  review_scores_cleanliness                     6086 non-null   float64\n",
      " 64  review_scores_checkin                         6081 non-null   float64\n",
      " 65  review_scores_communication                   6085 non-null   float64\n",
      " 66  review_scores_location                        6081 non-null   float64\n",
      " 67  review_scores_value                           6079 non-null   float64\n",
      " 68  license                                       0 non-null      float64\n",
      " 69  instant_bookable                              7566 non-null   object \n",
      " 70  calculated_host_listings_count                7566 non-null   int64  \n",
      " 71  calculated_host_listings_count_entire_homes   7566 non-null   int64  \n",
      " 72  calculated_host_listings_count_private_rooms  7566 non-null   int64  \n",
      " 73  calculated_host_listings_count_shared_rooms   7566 non-null   int64  \n",
      " 74  reviews_per_month                             6209 non-null   float64\n",
      "dtypes: float64(18), int64(23), object(34)\n",
      "memory usage: 4.3+ MB\n"
     ]
    }
   ],
   "source": [
    "# Continuing to review the csv file\n",
    "\n",
    "listingsDF.info()"
   ]
  },
  {
   "cell_type": "code",
   "execution_count": null,
   "id": "65251cd1",
   "metadata": {},
   "outputs": [],
   "source": [
    "# Firstly, I want to get rid of any listings that haven't yet been reviewed\n",
    "listingsDF.dropna(subset=['first_review'], inplace=True)\n",
    "listingsDF.drop(columns=['first_review'], inplace= True)"
   ]
  },
  {
   "cell_type": "code",
   "execution_count": 10,
   "id": "4f72816b",
   "metadata": {},
   "outputs": [
    {
     "data": {
      "text/plain": [
       "license                         1.000000\n",
       "bathrooms                       1.000000\n",
       "calendar_updated                1.000000\n",
       "neighbourhood_group_cleansed    1.000000\n",
       "host_about                      0.503624\n",
       "host_response_time              0.458206\n",
       "host_response_rate              0.458206\n",
       "host_acceptance_rate            0.419391\n",
       "neighbourhood                   0.406507\n",
       "neighborhood_overview           0.406507\n",
       "host_neighbourhood              0.306974\n",
       "host_location                   0.162184\n",
       "bedrooms                        0.026896\n",
       "review_scores_value             0.020937\n",
       "review_scores_location          0.020615\n",
       "review_scores_checkin           0.020615\n",
       "review_scores_accuracy          0.019971\n",
       "review_scores_communication     0.019971\n",
       "review_scores_cleanliness       0.019810\n",
       "description                     0.017233\n",
       "beds                            0.011435\n",
       "bathrooms_text                  0.000483\n",
       "dtype: float64"
      ]
     },
     "execution_count": 10,
     "metadata": {},
     "output_type": "execute_result"
    }
   ],
   "source": [
    "# Now I will look for null values in the columns\n",
    "\n",
    "listingsDF.isnull().mean()[listings.isnull().mean()>0].sort_values(ascending=False)"
   ]
  },
  {
   "cell_type": "markdown",
   "id": "130f7414",
   "metadata": {},
   "source": [
    "I have decided that I will be focusing on 5 columns in this project however I also want to keep my original listingsDF as it is in the event I want to do any further analysis on this data contained in it.\n",
    "\n",
    "On that basis, I have decided to make a new version of the file and call it 'listingsDF2'.\n",
    "\n",
    "While I have chosen to make a new file, I would have like to demonstrate manipulating my dataset by cleaning it up and dropping irrelevant fields. I would have done this with the code: \n",
    "\n",
    "dropcols = ['Column_1', 'Column_2', etc]\n",
    "listings.drop(columns=dropcols, inplace=True)"
   ]
  },
  {
   "cell_type": "code",
   "execution_count": 3,
   "id": "64a8ff61",
   "metadata": {},
   "outputs": [],
   "source": [
    "# From review of the data, I have decided I will only keep a small number of columns for my analysis and remove the rest.\n",
    "\n",
    "# Columns that I am keeping: 'host_id', 'host_listings_count', 'reviews_per_month', 'reviews_score_rating', 'price'\n",
    "\n",
    "listingsDF2 = listingsDF[['host_id','host_listings_count','reviews_per_month','review_scores_rating','price']].copy()"
   ]
  },
  {
   "cell_type": "code",
   "execution_count": 4,
   "id": "c47c01b5",
   "metadata": {},
   "outputs": [
    {
     "data": {
      "text/plain": [
       "(7566, 5)"
      ]
     },
     "execution_count": 4,
     "metadata": {},
     "output_type": "execute_result"
    }
   ],
   "source": [
    "listingsDF2.shape"
   ]
  },
  {
   "cell_type": "code",
   "execution_count": 5,
   "id": "735b2105",
   "metadata": {},
   "outputs": [
    {
     "name": "stdout",
     "output_type": "stream",
     "text": [
      "<class 'pandas.core.frame.DataFrame'>\n",
      "RangeIndex: 7566 entries, 0 to 7565\n",
      "Data columns (total 5 columns):\n",
      " #   Column                Non-Null Count  Dtype  \n",
      "---  ------                --------------  -----  \n",
      " 0   host_id               7566 non-null   int64  \n",
      " 1   host_listings_count   7566 non-null   int64  \n",
      " 2   reviews_per_month     6209 non-null   float64\n",
      " 3   review_scores_rating  6209 non-null   float64\n",
      " 4   price                 7566 non-null   object \n",
      "dtypes: float64(2), int64(2), object(1)\n",
      "memory usage: 295.7+ KB\n"
     ]
    }
   ],
   "source": [
    "# I want to make sure my new 'listingsDF2' is showing correct info\n",
    "\n",
    "listingsDF2.info()"
   ]
  },
  {
   "cell_type": "code",
   "execution_count": 32,
   "id": "31a1aef6",
   "metadata": {},
   "outputs": [
    {
     "data": {
      "text/plain": [
       "reviews_per_month       0.179355\n",
       "review_scores_rating    0.179355\n",
       "dtype: float64"
      ]
     },
     "execution_count": 32,
     "metadata": {},
     "output_type": "execute_result"
    }
   ],
   "source": [
    "# Continuing with reviewing the dataset, I want to check for nulls \n",
    "listingsDF2.isnull().mean()[listingsDF2.isnull().mean()>0].sort_values(ascending=False)"
   ]
  },
  {
   "cell_type": "code",
   "execution_count": 6,
   "id": "d7d3a393",
   "metadata": {},
   "outputs": [
    {
     "data": {
      "text/plain": [
       "count    7.566000e+03\n",
       "mean     1.165346e+08\n",
       "std      1.257774e+08\n",
       "min      4.398400e+04\n",
       "25%      2.500539e+07\n",
       "50%      6.773535e+07\n",
       "75%      1.624988e+08\n",
       "max      4.787894e+08\n",
       "Name: host_id, dtype: float64"
      ]
     },
     "execution_count": 6,
     "metadata": {},
     "output_type": "execute_result"
    }
   ],
   "source": [
    "# Using DataFrame.describe() method to get my statistical analysis for my listings dataframe\n",
    "\n",
    "host_id_stats = listingsDF2.loc[:,'host_id']\n",
    "host_id_stats.describe()\n",
    "\n",
    "host_id_stats.describe()"
   ]
  },
  {
   "cell_type": "code",
   "execution_count": 7,
   "id": "f43c4c5e",
   "metadata": {},
   "outputs": [
    {
     "data": {
      "text/plain": [
       "count    7566.000000\n",
       "mean       24.575601\n",
       "std       202.623363\n",
       "min         1.000000\n",
       "25%         1.000000\n",
       "50%         1.000000\n",
       "75%         3.000000\n",
       "max      2157.000000\n",
       "Name: host_listings_count, dtype: float64"
      ]
     },
     "execution_count": 7,
     "metadata": {},
     "output_type": "execute_result"
    }
   ],
   "source": [
    "# Using DataFrame.describe() method to get my statistical analysis for my listings dataframe\n",
    "\n",
    "host_listings_count_stats = listingsDF2.loc[:,'host_listings_count']\n",
    "host_listings_count_stats.describe()\n",
    "\n",
    "host_listings_count_stats.describe()"
   ]
  },
  {
   "cell_type": "code",
   "execution_count": 8,
   "id": "9237167a",
   "metadata": {},
   "outputs": [
    {
     "data": {
      "text/plain": [
       "count    6209.000000\n",
       "mean        1.319006\n",
       "std         1.988691\n",
       "min         0.010000\n",
       "25%         0.130000\n",
       "50%         0.610000\n",
       "75%         1.760000\n",
       "max        44.720000\n",
       "Name: reviews_per_month, dtype: float64"
      ]
     },
     "execution_count": 8,
     "metadata": {},
     "output_type": "execute_result"
    }
   ],
   "source": [
    "# Using DataFrame.describe() method to get my statistical analysis for my listings dataframe\n",
    "\n",
    "reviews_per_month_stats = listingsDF2.loc[:,'reviews_per_month']\n",
    "reviews_per_month_stats.describe()\n",
    "\n",
    "reviews_per_month_stats.describe()"
   ]
  },
  {
   "cell_type": "code",
   "execution_count": 9,
   "id": "d7566072",
   "metadata": {},
   "outputs": [
    {
     "data": {
      "text/plain": [
       "count    6209.000000\n",
       "mean        4.603239\n",
       "std         0.771441\n",
       "min         0.000000\n",
       "25%         4.560000\n",
       "50%         4.810000\n",
       "75%         5.000000\n",
       "max         5.000000\n",
       "Name: review_scores_rating, dtype: float64"
      ]
     },
     "execution_count": 9,
     "metadata": {},
     "output_type": "execute_result"
    }
   ],
   "source": [
    "# Using DataFrame.describe() method to get my statistical analysis for my listings dataframe\n",
    "\n",
    "review_scores_rating_stats = listingsDF2.loc[:,'review_scores_rating']\n",
    "review_scores_rating_stats.describe()\n",
    "\n",
    "review_scores_rating_stats.describe()"
   ]
  },
  {
   "cell_type": "code",
   "execution_count": 10,
   "id": "7c7af7ea",
   "metadata": {},
   "outputs": [
    {
     "data": {
      "text/plain": [
       "count        7566\n",
       "unique        547\n",
       "top       $100.00\n",
       "freq          235\n",
       "Name: price, dtype: object"
      ]
     },
     "execution_count": 10,
     "metadata": {},
     "output_type": "execute_result"
    }
   ],
   "source": [
    "# Using DataFrame.describe() method to get my statistical analysis for my listings dataframe\n",
    "\n",
    "price_stats = listingsDF2.loc[:,'price']\n",
    "price_stats.describe()\n",
    "\n",
    "price_stats.describe()"
   ]
  },
  {
   "cell_type": "code",
   "execution_count": 63,
   "id": "c3ac5ec1",
   "metadata": {},
   "outputs": [
    {
     "data": {
      "image/png": "[encoded data removed]",
      "text/plain": [
       "<Figure size 576x576 with 1 Axes>"
      ]
     },
     "metadata": {},
     "output_type": "display_data"
    }
   ],
   "source": [
    "# Reverting back to listingsDF to illustrate some charts\n",
    "\n",
    "# Pie chart of Room Type\n",
    "\n",
    "# As I have not yet dropped the columns that I am not interested in, I have taken this opportunity to showcase ability to add graphs and charts\n",
    "# I am aware this pie chart contains variables that I am not reviewing, it is being used to illustrate my ability to display charts and diagrams.\n",
    "\n",
    "listingsDF['room_type'].value_counts().plot(kind = 'pie', colors=['green', 'gold', 'black'], figsize = (8, 8))\n",
    "plt.title('Pie Chart for Room Type Distribution', fontsize = 20)\n",
    "plt.xlabel('Room Type')\n",
    "plt.ylabel('Number of entries')\n",
    "plt.show()"
   ]
  },
  {
   "cell_type": "code",
   "execution_count": 65,
   "id": "2c34b783",
   "metadata": {},
   "outputs": [
    {
     "data": {
      "text/plain": [
       "Text(0.5, 1.0, 'Distribution of reviews in the top neighbourhoods')"
      ]
     },
     "execution_count": 65,
     "metadata": {},
     "output_type": "execute_result"
    },
    {
     "data": {
      "image/png": "[encoded data removed]",
      "text/plain": [
       "<Figure size 576x432 with 1 Axes>"
      ]
     },
     "metadata": {
      "needs_background": "light"
     },
     "output_type": "display_data"
    }
   ],
   "source": [
    "# Again, as per note above, this graph is for illustrative purposes, I thought it would be a nice opportunity to show different areas.\n",
    "\n",
    "# Distribution of neighbourhoods, unfortunately the csv file did not have a detailed breakdown of locations in Dublin, Ireland,\n",
    "# however, for illustrative purposes, plot was added.\n",
    "\n",
    "neighs = listingsDF.groupby('neighbourhood')\n",
    "reviews = neighs['number_of_reviews'].sum().sort_values().tail(5)\n",
    "\n",
    "reviews.plot(kind = 'bar', color=['#e59e6d', '#ba9653', '#963821', 'black', '#007a33'], figsize = (8, 6))\n",
    "plt.xlabel('Neighbourhood')\n",
    "plt.ylabel('Reviews')\n",
    "plt.title('Distribution of reviews in the top neighbourhoods')"
   ]
  },
  {
   "cell_type": "code",
   "execution_count": 66,
   "id": "617fe04b",
   "metadata": {},
   "outputs": [
    {
     "name": "stdout",
     "output_type": "stream",
     "text": [
      "The neighbourhood with the most listings is Dublin, County Dublin, Ireland with 1127 properties\n"
     ]
    }
   ],
   "source": [
    "# As per above, showing my ability to analyse a dataset.\n",
    "\n",
    "# Distribution of neighbourhoods, unfortunately the csv file did not have a detailed breakdown of locations in Dublin, Ireland,\n",
    "# however, for illustrative purposes, code was included.\n",
    "\n",
    "res = listingsDF['neighbourhood'].value_counts()\n",
    "# We want the most common neighbourhood, thus the head of the list\n",
    "neig = res.keys().tolist()[0]\n",
    "# And also the properties it has\n",
    "n_props = res.tolist()[0]\n",
    "print(\"The neighbourhood with the most listings is {} with {} properties\".format(neig, n_props))"
   ]
  },
  {
   "cell_type": "markdown",
   "id": "62cec5cc",
   "metadata": {},
   "source": [
    "### Step 3A: Simulating the data and Random Samples - Using numpy.random"
   ]
  },
  {
   "cell_type": "markdown",
   "id": "513bde10",
   "metadata": {},
   "source": [
    "#### Chosen variables:\n",
    "---\n",
    "\n",
    "* host_idSD (int64)\n",
    "* host_listings_countSD (int64)\n",
    "* reviews_per_monthSD (float64)\n",
    "* review_scores_ratingSD (float64)\n",
    "* priceSD (object)"
   ]
  },
  {
   "cell_type": "code",
   "execution_count": 11,
   "id": "ac180090",
   "metadata": {},
   "outputs": [
    {
     "name": "stdout",
     "output_type": "stream",
     "text": [
      "[5364 7255 4141 8604 3583 8808 4481 6203 4100 4773 1776 6112 9345 6486\n",
      " 9275 8643 4567 1818 5361 4254 7514 4587 2971 9364 2958 4210 8095 7486\n",
      " 4170 9867 1228 9257 9730 8987 1780 6284 7640 7673 3824 2251 4358 9484\n",
      " 8867 2876 1250 3570 3433 3707 4701 4133 5099 6881 9718 1672 7425 2988\n",
      " 2796 4839 5760 1850 3567 5093 5614 4990 9017 7927 3306 5447 3873 7270\n",
      " 1725 9956 7259 9591 1041 2709 6880 8310 4832 8192 3069 3035 8764 9462\n",
      " 7685 3997 6026 4361 2348 6034 1268 1152 3424 3878 1300 1026 3750 2902\n",
      " 6145 8885]\n"
     ]
    }
   ],
   "source": [
    "# host_idSD\n",
    "\n",
    "## generate a random array of 100 host id's between 1000 and 9999\n",
    "\n",
    "host_idSD_array = np.random.randint(low=1000, high=9999, size=100) \n",
    "print(host_idSD_array)"
   ]
  },
  {
   "cell_type": "code",
   "execution_count": 12,
   "id": "6b9ca931",
   "metadata": {},
   "outputs": [
    {
     "name": "stdout",
     "output_type": "stream",
     "text": [
      "[29 32 42 15 45 35 17 10 40 25 27 27 12  7 10 12 16 48 38 42 29 28 38 43\n",
      "  1 18 25 26 46 40  4 48 36  4 46 14  7 21 33 34 22 17  9 27 40 33 45 44\n",
      " 36  3 12 48 38 10 34 11 15 47 18  9 27 10  2 40 15 17 36 39 19  7 36  1\n",
      "  8 29 45 19  4 34 16 47 28 30 14  8 49  2 35 41  5 45 46 46 25  4  3 21\n",
      " 13 25 13 15]\n"
     ]
    }
   ],
   "source": [
    "# host_listings_countSD\n",
    "\n",
    "## generate a random array of 100 host listings count between 1 and 50\n",
    "\n",
    "host_listings_countSD_array = np.random.randint(low=1, high=50, size=100) \n",
    "print(host_listings_countSD_array)"
   ]
  },
  {
   "cell_type": "code",
   "execution_count": 14,
   "id": "9a42fb0b",
   "metadata": {},
   "outputs": [
    {
     "data": {
      "image/png": "[encoded data removed]",
      "text/plain": [
       "<Figure size 360x360 with 1 Axes>"
      ]
     },
     "metadata": {
      "needs_background": "light"
     },
     "output_type": "display_data"
    }
   ],
   "source": [
    "sns.displot(host_listings_countSD_array, color = 'green')\n",
    "plt.title('Host Listings Count')\n",
    "plt.xlabel('No of listings')\n",
    "plt.show()"
   ]
  },
  {
   "cell_type": "code",
   "execution_count": 15,
   "id": "cee71fb0",
   "metadata": {},
   "outputs": [
    {
     "name": "stdout",
     "output_type": "stream",
     "text": [
      "[26.07310563 53.08007292  3.85095193 40.71808114  5.77275332 76.34993197\n",
      " 63.30447118 48.03264518  9.53409925 69.43033022 95.91466544 96.6235507\n",
      " 18.76758617 97.66772035 52.34543886 45.06225091  2.45978724 92.77409177\n",
      " 97.75029177 51.58021632 32.20817347 83.32724094 50.08786281 64.10106681\n",
      "  3.85572001 95.4236634  85.66775623 53.67225722 76.5855677   6.39144813\n",
      " 36.87161818 80.12702764 78.29541023 22.48909783 50.97377025 88.95217922\n",
      " 23.62491112 18.9219042  44.73798181 82.55772513 63.58369943 61.76329543\n",
      " 50.12992199 16.9499754  45.42975851 29.20083132 40.36027733 32.31087595\n",
      "  8.75681767  1.4765488  91.28254666 82.45510756 88.92396596 49.68017421\n",
      "  4.04695276 13.58957498 37.09310259 91.28456349 18.97826953 38.55925458\n",
      " 33.31318456 52.30925107 48.04495691 37.62988799 66.79355781 22.03685695\n",
      " 49.52995914 35.18164257 66.54393752 51.04903855 27.21742973 29.12578099\n",
      " 85.00354309 30.06681858 44.51775287 18.34332969  1.14772834 96.56550333\n",
      " 78.50981214 45.77004422 73.77943892 35.58814342 83.37753183 43.17664868\n",
      " 93.34902783 49.36470217 42.61637582 20.47546276 82.28329045 98.79295505\n",
      " 26.18318173 97.43053682 88.99909685 18.5171547  86.62371554  9.45026151\n",
      " 38.24015217 56.8916395  68.66899643 39.24875236]\n"
     ]
    }
   ],
   "source": [
    "# reviews_per_monthSD_array\n",
    "\n",
    "# create a list of reviews bins\n",
    "\n",
    "# This datatype I had originally had as a list of options but now I have just amended this to an integer in order to facilitate adding this array to the dataframe.\n",
    "\n",
    "reviews_per_monthSD_array = np.random.uniform(low=1.0, high=100.0, size=(100,))\n",
    "print(reviews_per_monthSD_array)"
   ]
  },
  {
   "cell_type": "code",
   "execution_count": 16,
   "id": "33e5a9fc",
   "metadata": {},
   "outputs": [
    {
     "name": "stdout",
     "output_type": "stream",
     "text": [
      "[1.2568311  3.68725114 4.32942487 1.12874377 1.72289987 1.91409768\n",
      " 4.60869203 2.10839241 4.52207035 2.70057083 4.73396594 3.33102195\n",
      " 4.85646365 4.78484901 2.04778764 1.33431999 2.83113946 2.93098479\n",
      " 4.07750829 2.06809429 3.05322696 2.57179035 2.19621667 1.0661576\n",
      " 4.95601548 4.53181863 2.21435096 1.65188468 1.71278732 4.15739402\n",
      " 4.93580631 3.9369726  4.61948698 1.44388015 3.22091962 2.17337086\n",
      " 4.77490634 3.47956899 1.84630687 2.0118634  1.84204558 3.22027342\n",
      " 4.71263086 2.85155788 1.94251164 1.19857688 3.19462615 4.08218383\n",
      " 3.37494904 1.85045545 4.20366886 2.2976644  2.37200306 4.06591823\n",
      " 4.45671121 4.85106213 1.61387421 1.06173887 4.84498606 2.56295819\n",
      " 4.90455172 4.5767304  4.47206839 1.25695605 2.19495738 1.35074249\n",
      " 4.44641471 3.82397082 1.96702728 1.12495451 3.5392292  3.7819593\n",
      " 3.93734256 3.70369975 4.93550831 2.85753309 3.48486224 2.38981979\n",
      " 1.58705994 4.63459879 3.03492093 2.13320746 1.49955938 1.26230219\n",
      " 1.71586672 1.49149219 1.374767   1.10694586 4.60220053 4.72722628\n",
      " 2.31194608 1.75935429 2.21895368 1.88659171 1.55242036 2.38349623\n",
      " 2.6022512  2.41198585 4.02664237 4.22662612]\n"
     ]
    }
   ],
   "source": [
    "# review_scores_ratingSD_array\n",
    "\n",
    "review_scores_ratingSD_array = np.random.uniform(low=1.0, high=5.0, size=(100,))\n",
    "print(review_scores_ratingSD_array)"
   ]
  },
  {
   "cell_type": "code",
   "execution_count": 17,
   "id": "df7468c9",
   "metadata": {},
   "outputs": [
    {
     "name": "stdout",
     "output_type": "stream",
     "text": [
      "[409.00148397 379.50980058 324.23878943 483.22622521 424.84178028\n",
      " 437.18607949 292.01930525 307.07867667 489.13168661 164.51068371\n",
      " 445.5075794  293.92760805 287.4126505  498.6393098  222.8417307\n",
      " 376.90789478 474.3824327  196.5957213  163.41036774 209.84024464\n",
      " 221.9800968  402.88612249 167.99853106 440.16687721 427.16478043\n",
      " 453.13538188 219.13912778 261.06011953 200.9084531  242.57563927\n",
      " 310.44562874 281.61944558 237.57980532 416.08304889 412.94622656\n",
      " 212.28615244 450.50600652 453.79171863 367.95907677 381.96154248\n",
      " 254.800603   129.57358344 290.33018281 155.28538912 430.30488676\n",
      " 293.11498044 190.97345373 185.43833549 195.47366422 454.31807251\n",
      " 464.60800508 121.29861159 468.56686283 349.75973509 434.26619258\n",
      " 402.14288154 203.20537493 372.94332281 254.48907291 311.41237538\n",
      " 104.01557465 451.39086482 338.71023388 352.51238438 274.68019517\n",
      " 303.50483422 419.99107504 384.24011047 283.33764728 368.89001326\n",
      " 357.10176763 188.0640383  343.54534498 258.0745883  494.81214631\n",
      " 293.35199069 274.03698764 384.8935365  235.13149352 353.72976465\n",
      " 373.04859616 428.02289958 442.31955758 494.04029796 255.62320212\n",
      " 428.35390264 224.07593542 203.28799545 447.84864322 172.70120489\n",
      " 332.75579988 159.32953388 450.20949417 180.2779549  239.64304753\n",
      " 418.84325783 326.75934012 264.52584985 101.58447543 117.06493339]\n"
     ]
    }
   ],
   "source": [
    "#priceSD_array (object) - Please note, while the datatype for price in listings is 'object', I am going to assume in my new dataset that this is a float.\n",
    "\n",
    "priceSD_array = np.random.uniform(low=100.0, high=500.0, size=(100,))\n",
    "print(priceSD_array)"
   ]
  },
  {
   "cell_type": "markdown",
   "id": "ff231c96",
   "metadata": {},
   "source": [
    "So far in Step 3, I have created my 5 variables and simulated the data. I will now create a dataframe for this and name it listingsV3."
   ]
  },
  {
   "cell_type": "code",
   "execution_count": 18,
   "id": "53f695a9",
   "metadata": {},
   "outputs": [],
   "source": [
    "# listings V3:\n",
    "\n",
    "listingsv3 = pd.DataFrame(columns=['host_idSD', 'host_listings_countSD', 'reviews_per_monthSD', 'review_scores_ratingSD', 'priceSD'])"
   ]
  },
  {
   "cell_type": "code",
   "execution_count": 19,
   "id": "3f6e00b5",
   "metadata": {},
   "outputs": [],
   "source": [
    "# Adding host_idSD_array to the datafaram listingsv3\n",
    "\n",
    "listingsv3['host_idSD'] = host_idSD_array"
   ]
  },
  {
   "cell_type": "code",
   "execution_count": 20,
   "id": "d5a08cbe",
   "metadata": {},
   "outputs": [],
   "source": [
    "# Adding host_listings_countSD_array to the datafaram listingsv3\n",
    "\n",
    "listingsv3['host_listings_countSD'] = host_listings_countSD_array"
   ]
  },
  {
   "cell_type": "code",
   "execution_count": 21,
   "id": "e5648bca",
   "metadata": {},
   "outputs": [],
   "source": [
    "# Adding reviews_per_monthSD_array to the datafaram listingsv3\n",
    "\n",
    "listingsv3['reviews_per_monthSD'] = reviews_per_monthSD_array"
   ]
  },
  {
   "cell_type": "code",
   "execution_count": 22,
   "id": "3c31d5e9",
   "metadata": {},
   "outputs": [],
   "source": [
    "# Adding review_scores_ratingSD_array to the datafaram listingsv3\n",
    "\n",
    "listingsv3['review_scores_ratingSD'] = review_scores_ratingSD_array"
   ]
  },
  {
   "cell_type": "code",
   "execution_count": 23,
   "id": "ee7aa4f8",
   "metadata": {},
   "outputs": [],
   "source": [
    "# Adding priceSD_array to the datafaram listingsv3\n",
    "\n",
    "listingsv3['priceSD'] = priceSD_array"
   ]
  },
  {
   "cell_type": "code",
   "execution_count": 24,
   "id": "3b82734b",
   "metadata": {},
   "outputs": [
    {
     "data": {
      "text/plain": [
       "(100, 5)"
      ]
     },
     "execution_count": 24,
     "metadata": {},
     "output_type": "execute_result"
    }
   ],
   "source": [
    "listingsv3.shape"
   ]
  },
  {
   "cell_type": "code",
   "execution_count": 25,
   "id": "1bdd838a",
   "metadata": {},
   "outputs": [
    {
     "name": "stdout",
     "output_type": "stream",
     "text": [
      "<class 'pandas.core.frame.DataFrame'>\n",
      "RangeIndex: 100 entries, 0 to 99\n",
      "Data columns (total 5 columns):\n",
      " #   Column                  Non-Null Count  Dtype  \n",
      "---  ------                  --------------  -----  \n",
      " 0   host_idSD               100 non-null    int32  \n",
      " 1   host_listings_countSD   100 non-null    int32  \n",
      " 2   reviews_per_monthSD     100 non-null    float64\n",
      " 3   review_scores_ratingSD  100 non-null    float64\n",
      " 4   priceSD                 100 non-null    float64\n",
      "dtypes: float64(3), int32(2)\n",
      "memory usage: 3.2 KB\n"
     ]
    }
   ],
   "source": [
    "listingsv3.info()"
   ]
  },
  {
   "cell_type": "code",
   "execution_count": 26,
   "id": "4d8be63d",
   "metadata": {},
   "outputs": [
    {
     "data": {
      "text/html": [
       "<div>\n",
       "<style scoped>\n",
       "    .dataframe tbody tr th:only-of-type {\n",
       "        vertical-align: middle;\n",
       "    }\n",
       "\n",
       "    .dataframe tbody tr th {\n",
       "        vertical-align: top;\n",
       "    }\n",
       "\n",
       "    .dataframe thead th {\n",
       "        text-align: right;\n",
       "    }\n",
       "</style>\n",
       "<table border=\"1\" class=\"dataframe\">\n",
       "  <thead>\n",
       "    <tr style=\"text-align: right;\">\n",
       "      <th></th>\n",
       "      <th>host_idSD</th>\n",
       "      <th>host_listings_countSD</th>\n",
       "      <th>reviews_per_monthSD</th>\n",
       "      <th>review_scores_ratingSD</th>\n",
       "      <th>priceSD</th>\n",
       "    </tr>\n",
       "  </thead>\n",
       "  <tbody>\n",
       "    <tr>\n",
       "      <th>0</th>\n",
       "      <td>5364</td>\n",
       "      <td>29</td>\n",
       "      <td>26.073106</td>\n",
       "      <td>1.256831</td>\n",
       "      <td>409.001484</td>\n",
       "    </tr>\n",
       "    <tr>\n",
       "      <th>1</th>\n",
       "      <td>7255</td>\n",
       "      <td>32</td>\n",
       "      <td>53.080073</td>\n",
       "      <td>3.687251</td>\n",
       "      <td>379.509801</td>\n",
       "    </tr>\n",
       "    <tr>\n",
       "      <th>2</th>\n",
       "      <td>4141</td>\n",
       "      <td>42</td>\n",
       "      <td>3.850952</td>\n",
       "      <td>4.329425</td>\n",
       "      <td>324.238789</td>\n",
       "    </tr>\n",
       "    <tr>\n",
       "      <th>3</th>\n",
       "      <td>8604</td>\n",
       "      <td>15</td>\n",
       "      <td>40.718081</td>\n",
       "      <td>1.128744</td>\n",
       "      <td>483.226225</td>\n",
       "    </tr>\n",
       "    <tr>\n",
       "      <th>4</th>\n",
       "      <td>3583</td>\n",
       "      <td>45</td>\n",
       "      <td>5.772753</td>\n",
       "      <td>1.722900</td>\n",
       "      <td>424.841780</td>\n",
       "    </tr>\n",
       "  </tbody>\n",
       "</table>\n",
       "</div>"
      ],
      "text/plain": [
       "   host_idSD  host_listings_countSD  reviews_per_monthSD  \\\n",
       "0       5364                     29            26.073106   \n",
       "1       7255                     32            53.080073   \n",
       "2       4141                     42             3.850952   \n",
       "3       8604                     15            40.718081   \n",
       "4       3583                     45             5.772753   \n",
       "\n",
       "   review_scores_ratingSD     priceSD  \n",
       "0                1.256831  409.001484  \n",
       "1                3.687251  379.509801  \n",
       "2                4.329425  324.238789  \n",
       "3                1.128744  483.226225  \n",
       "4                1.722900  424.841780  "
      ]
     },
     "execution_count": 26,
     "metadata": {},
     "output_type": "execute_result"
    }
   ],
   "source": [
    "listingsv3.head()"
   ]
  },
  {
   "cell_type": "code",
   "execution_count": 27,
   "id": "4bd54137",
   "metadata": {},
   "outputs": [],
   "source": [
    "# numpy.random.seed: Adding this in for illustrative purposes\n",
    "\n",
    "# setting the seed at 42,\n",
    "\n",
    "rng = np.random.default_rng(seed=42)"
   ]
  },
  {
   "cell_type": "code",
   "execution_count": 28,
   "id": "dab4ea5d",
   "metadata": {},
   "outputs": [],
   "source": [
    "# numpy.random.seed continued\n",
    "\n",
    "# selecting a set of 15 random numbers\n",
    "\n",
    "z = rng.random((5,3))"
   ]
  },
  {
   "cell_type": "code",
   "execution_count": 29,
   "id": "6bf4daaa",
   "metadata": {},
   "outputs": [
    {
     "name": "stdout",
     "output_type": "stream",
     "text": [
      "[[0.77395605 0.43887844 0.85859792]\n",
      " [0.69736803 0.09417735 0.97562235]\n",
      " [0.7611397  0.78606431 0.12811363]\n",
      " [0.45038594 0.37079802 0.92676499]\n",
      " [0.64386512 0.82276161 0.4434142 ]]\n"
     ]
    }
   ],
   "source": [
    "# numpy.random.seed continued\n",
    "\n",
    "print(z)"
   ]
  },
  {
   "cell_type": "code",
   "execution_count": 30,
   "id": "588231ce",
   "metadata": {},
   "outputs": [
    {
     "data": {
      "text/plain": [
       "count     100.000000\n",
       "mean     5353.420000\n",
       "std      2643.535336\n",
       "min      1026.000000\n",
       "25%      3394.500000\n",
       "50%      4835.500000\n",
       "75%      7648.250000\n",
       "max      9956.000000\n",
       "Name: host_idSD, dtype: float64"
      ]
     },
     "execution_count": 30,
     "metadata": {},
     "output_type": "execute_result"
    }
   ],
   "source": [
    "# Using DataFrame.describe() method to get my statistical analysis for listingv3 dataframe\n",
    "\n",
    "host_idSD_stats = listingsv3.loc[:,'host_idSD']\n",
    "host_idSD_stats.describe()"
   ]
  },
  {
   "cell_type": "code",
   "execution_count": 31,
   "id": "6dd09661",
   "metadata": {},
   "outputs": [
    {
     "data": {
      "text/plain": [
       "count    100.000000\n",
       "mean      25.070000\n",
       "std       14.678545\n",
       "min        1.000000\n",
       "25%       12.000000\n",
       "50%       25.500000\n",
       "75%       38.000000\n",
       "max       49.000000\n",
       "Name: host_listings_countSD, dtype: float64"
      ]
     },
     "execution_count": 31,
     "metadata": {},
     "output_type": "execute_result"
    }
   ],
   "source": [
    "# Using DataFrame.describe() method to get my statistical analysis for listingv3 dataframe\n",
    "\n",
    "host_listings_countSD_stats = listingsv3.loc[:,'host_listings_countSD']\n",
    "host_listings_countSD_stats.describe()"
   ]
  },
  {
   "cell_type": "code",
   "execution_count": 32,
   "id": "7ef29fc8",
   "metadata": {},
   "outputs": [
    {
     "data": {
      "text/plain": [
       "count    100.000000\n",
       "mean      50.635770\n",
       "std       29.003488\n",
       "min        1.147728\n",
       "25%       28.648693\n",
       "50%       48.704830\n",
       "75%       78.349011\n",
       "max       98.792955\n",
       "Name: reviews_per_monthSD, dtype: float64"
      ]
     },
     "execution_count": 32,
     "metadata": {},
     "output_type": "execute_result"
    }
   ],
   "source": [
    "# Using DataFrame.describe() method to get my statistical analysis for listingv3 dataframe\n",
    "\n",
    "reviews_per_monthSD_stats = listingsv3.loc[:,'reviews_per_monthSD']\n",
    "reviews_per_monthSD_stats.describe()"
   ]
  },
  {
   "cell_type": "code",
   "execution_count": 33,
   "id": "95faf201",
   "metadata": {},
   "outputs": [
    {
     "data": {
      "text/plain": [
       "count    100.000000\n",
       "mean       2.954290\n",
       "std        1.267638\n",
       "min        1.061739\n",
       "25%        1.849418\n",
       "50%        2.765855\n",
       "75%        4.168963\n",
       "max        4.956015\n",
       "Name: review_scores_ratingSD, dtype: float64"
      ]
     },
     "execution_count": 33,
     "metadata": {},
     "output_type": "execute_result"
    }
   ],
   "source": [
    "# Using DataFrame.describe() method to get my statistical analysis for listingv3 dataframe\n",
    "\n",
    "review_scores_ratingSD_stats = listingsv3.loc[:,'review_scores_ratingSD']\n",
    "review_scores_ratingSD_stats.describe()"
   ]
  },
  {
   "cell_type": "code",
   "execution_count": 34,
   "id": "56b5ce5b",
   "metadata": {},
   "outputs": [
    {
     "data": {
      "text/plain": [
       "count    100.000000\n",
       "mean     319.290399\n",
       "std      109.441285\n",
       "min      101.584475\n",
       "25%      223.767384\n",
       "50%      317.825582\n",
       "75%      421.203751\n",
       "max      498.639310\n",
       "Name: priceSD, dtype: float64"
      ]
     },
     "execution_count": 34,
     "metadata": {},
     "output_type": "execute_result"
    }
   ],
   "source": [
    "# Using DataFrame.describe() method to get my statistical analysis for listingv3 dataframe\n",
    "\n",
    "priceSD_stats = listingsv3.loc[:,'priceSD']\n",
    "priceSD_stats.describe()"
   ]
  },
  {
   "cell_type": "markdown",
   "id": "c5abeb73",
   "metadata": {},
   "source": [
    "At this point I have my statistical analysis for each variable in the original dataset and have now got the same for my simulated dataset."
   ]
  },
  {
   "cell_type": "markdown",
   "id": "76d3134a",
   "metadata": {},
   "source": [
    "### Step 3B: Simulating data and Random Samples - Using Scikit learn"
   ]
  },
  {
   "cell_type": "markdown",
   "id": "4c789b6d",
   "metadata": {},
   "source": [
    "Scikit-learn: A machine learning library that provides almost all the machine learning algorithms you might need. Schikit-learn is designed to be interpolated into NumPy and SciPy."
   ]
  },
  {
   "cell_type": "code",
   "execution_count": 35,
   "id": "43fa1a6e",
   "metadata": {},
   "outputs": [
    {
     "name": "stdout",
     "output_type": "stream",
     "text": [
      "Feature Matrix: \n",
      "   host_id_v2  host_listings_count_v2  reviews_per_month_v2  \\\n",
      "0   -0.679975                0.458388             -0.328919   \n",
      "1    0.124573                0.469131              0.820413   \n",
      "2   -4.854134                3.673439             -0.021264   \n",
      "3   -0.771813                0.652104              0.774934   \n",
      "4    0.942513               -1.622228             -1.276010   \n",
      "\n",
      "   review_score_rating_v2  price_v2  \n",
      "0                3.696514  1.651979  \n",
      "1                2.329553  1.174497  \n",
      "2                3.055608  1.854976  \n",
      "3                2.075855  0.435599  \n",
      "4                2.303144  3.049270  \n",
      "\n",
      "Target Class: \n"
     ]
    }
   ],
   "source": [
    "# Step 1 - Import libraries\n",
    "from sklearn.datasets import make_classification\n",
    "import pandas as pd\n",
    "\n",
    "# Create simulated data\n",
    "features, output = make_classification(n_samples = 50,\n",
    "                                       n_features = 5,\n",
    "                                       n_informative = 5,\n",
    "                                       n_redundant = 0,\n",
    "                                       n_classes = 3,\n",
    "                                       weights = [1, 1, 1])\n",
    "\n",
    "print(\"Feature Matrix: \");\n",
    "# renaming my selected variables with a 'V2' added to name in order to distinguish between my original data and new data\n",
    "print(pd.DataFrame(features, columns=[\"host_id_v2\", \"host_listings_count_v2\", \"reviews_per_month_v2\", \"review_score_rating_v2\", \"price_v2\"]).head())\n",
    "\n",
    "print()\n",
    "print(\"Target Class: \");"
   ]
  },
  {
   "cell_type": "code",
   "execution_count": 36,
   "id": "bc9d78b9",
   "metadata": {},
   "outputs": [
    {
     "name": "stdout",
     "output_type": "stream",
     "text": [
      "[0.20701557 0.20176412 0.04246481 ... 0.59614088 0.78795812 0.26919486]\n"
     ]
    }
   ],
   "source": [
    "# Draw random samples from a normal (Gaussian) distribution of 'review_scores_rating'\n",
    "\n",
    "# Parameters:\n",
    "#               loc : mean (4.603239)\n",
    "#               scale: standard deviation of the distribution (0.771441)\n",
    "#               size: integer or tuple, outs shape (none).\n",
    "\n",
    "rng = np.random.default_rng()\n",
    "x = rng.random(6209)\n",
    "print(x)"
   ]
  },
  {
   "cell_type": "code",
   "execution_count": 37,
   "id": "cd9561c2",
   "metadata": {},
   "outputs": [],
   "source": [
    "# Normal (Gaussian) distribution of 'review_scores_rating' continued\n",
    "\n",
    "y = np.random.normal(4.603239, 0.771441,6209)"
   ]
  },
  {
   "cell_type": "code",
   "execution_count": 38,
   "id": "9c3e5df9",
   "metadata": {},
   "outputs": [
    {
     "data": {
      "image/png": "[encoded data removed]",
      "text/plain": [
       "<Figure size 432x288 with 1 Axes>"
      ]
     },
     "metadata": {
      "needs_background": "light"
     },
     "output_type": "display_data"
    }
   ],
   "source": [
    "# Normal (Gaussian) distribution of 'review_scores_rating' continued\n",
    "\n",
    "plt.hist(x)\n",
    "plt.show()"
   ]
  },
  {
   "cell_type": "code",
   "execution_count": 39,
   "id": "e4cec165",
   "metadata": {},
   "outputs": [
    {
     "data": {
      "image/png": "[encoded data removed]",
      "text/plain": [
       "<Figure size 432x288 with 1 Axes>"
      ]
     },
     "metadata": {
      "needs_background": "light"
     },
     "output_type": "display_data"
    }
   ],
   "source": [
    "# Normal (Gaussian) distribution of 'review_scores_rating' continued\n",
    "\n",
    "# plotting histogram with title and labels\n",
    "\n",
    "plt.title(\"Normal Distribution of 'review_scores_rating'\")\n",
    "plt.xlabel(\"No of Standard Deviations from the mean\")\n",
    "plt.ylabel(\"Frequency\")\n",
    "\n",
    "plt.hist(y)\n",
    "plt.show()"
   ]
  },
  {
   "cell_type": "markdown",
   "id": "3df55a81",
   "metadata": {},
   "source": [
    "### Scikit learn: Nearest neighbor"
   ]
  },
  {
   "cell_type": "markdown",
   "id": "a228f1f4",
   "metadata": {},
   "source": [
    "#### Inputs and Outputs\n",
    "---"
   ]
  },
  {
   "cell_type": "code",
   "execution_count": 40,
   "id": "ecf67394",
   "metadata": {},
   "outputs": [],
   "source": [
    "# removed 'price', 'review_scores_rating'\n",
    "\n",
    "inputs = listingsDF[['host_id', 'latitude', 'longitude']]\n",
    "outputs = listingsDF['id']"
   ]
  },
  {
   "cell_type": "markdown",
   "id": "5e53d4ed",
   "metadata": {},
   "source": [
    "#### Classifier\n",
    "---"
   ]
  },
  {
   "cell_type": "code",
   "execution_count": 41,
   "id": "1c0de10e",
   "metadata": {},
   "outputs": [],
   "source": [
    "# from sklearn.neighbors import KNeighborsClassifier - this has been imported at top of page, also leaving here to demonstrate its use.\n",
    "\n",
    "knn = nei.KNeighborsClassifier(n_neighbors=4)\n",
    "#import sklearn.neighbors as nei"
   ]
  },
  {
   "cell_type": "markdown",
   "id": "9744124b",
   "metadata": {},
   "source": [
    "#### Fit\n",
    "---"
   ]
  },
  {
   "cell_type": "code",
   "execution_count": 42,
   "id": "1f951629",
   "metadata": {},
   "outputs": [
    {
     "data": {
      "text/plain": [
       "KNeighborsClassifier(n_neighbors=4)"
      ]
     },
     "execution_count": 42,
     "metadata": {},
     "output_type": "execute_result"
    }
   ],
   "source": [
    "knn.fit(inputs, outputs)"
   ]
  },
  {
   "cell_type": "markdown",
   "id": "cbb3b3c5",
   "metadata": {},
   "source": [
    "#### Predict\n",
    "---"
   ]
  },
  {
   "cell_type": "code",
   "execution_count": 43,
   "id": "25633f1a",
   "metadata": {
    "scrolled": true
   },
   "outputs": [
    {
     "data": {
      "text/plain": [
       "id                                                                           44077\n",
       "listing_url                                     https://www.airbnb.com/rooms/44077\n",
       "scrape_id                                                           20220911231053\n",
       "last_scraped                                                            2022-09-12\n",
       "source                                                                 city scrape\n",
       "                                                               ...                \n",
       "calculated_host_listings_count                                                   2\n",
       "calculated_host_listings_count_entire_homes                                      0\n",
       "calculated_host_listings_count_private_rooms                                     2\n",
       "calculated_host_listings_count_shared_rooms                                      0\n",
       "reviews_per_month                                                             1.85\n",
       "Name: 0, Length: 75, dtype: object"
      ]
     },
     "execution_count": 43,
     "metadata": {},
     "output_type": "execute_result"
    }
   ],
   "source": [
    "listingsDF.loc[0]"
   ]
  },
  {
   "cell_type": "code",
   "execution_count": 44,
   "id": "d43afcc5",
   "metadata": {},
   "outputs": [
    {
     "data": {
      "text/plain": [
       "array([2635493], dtype=int64)"
      ]
     },
     "execution_count": 44,
     "metadata": {},
     "output_type": "execute_result"
    }
   ],
   "source": [
    "# preditings the 'id'\n",
    "\n",
    "knn.predict([[0.352965,0.872357,1.343674]])"
   ]
  },
  {
   "cell_type": "code",
   "execution_count": 45,
   "id": "fd40b0bb",
   "metadata": {},
   "outputs": [
    {
     "data": {
      "text/plain": [
       "Text(0, 0.5, 'Price')"
      ]
     },
     "execution_count": 45,
     "metadata": {},
     "output_type": "execute_result"
    },
    {
     "data": {
      "image/png": "[encoded data removed]",
      "text/plain": [
       "<Figure size 432x288 with 1 Axes>"
      ]
     },
     "metadata": {
      "needs_background": "light"
     },
     "output_type": "display_data"
    }
   ],
   "source": [
    "plt.scatter('review_scores_ratingSD','priceSD', data=listingsv3)\n",
    "\n",
    "plt.title(\"Ratings versus Price\")\n",
    "plt.xlabel(\"Ratings\")\n",
    "plt.ylabel(\"Price\")"
   ]
  },
  {
   "cell_type": "markdown",
   "id": "3241bfc9",
   "metadata": {},
   "source": [
    "### Results:"
   ]
  },
  {
   "cell_type": "markdown",
   "id": "6f697d77",
   "metadata": {},
   "source": [
    "#### host_id\n",
    "---\n",
    "\n",
    "| Describ() | Original Dataset | Synthetic Dataset |\n",
    "| --- | --- | --- |\n",
    "| count | 7.566000 | 100 |\n",
    "| mean | 1.165346 | 5353.420000 |\n",
    "| std | 1.257774 | 2643.535336 |\n",
    "| min | 4.398400 | 1026.000000 |\n",
    "| 25% | 2.500539 | 3394.500000 |\n",
    "| 50% | 6.773535 | 4835.500000 |\n",
    "| 75% | 1.624988 | 7648.250000 |\n",
    "| max | 4.787894 | 9956.000000 |"
   ]
  },
  {
   "cell_type": "markdown",
   "id": "74225a85",
   "metadata": {},
   "source": [
    "#### host_listings_count\n",
    "---\n",
    "\n",
    "| Describ() | Original Dataset | Synthetic Dataset |\n",
    "| --- | --- | --- |\n",
    "| count | 7566.000000 | 100 |\n",
    "| mean | 24.575601 | 25.070000 |\n",
    "| std | 202.623363 | 14.678545 |\n",
    "| min | 1.000000 | 1.000000 |\n",
    "| 25% | 1.000000 | 12.000000 |\n",
    "| 50% | 1.000000 | 25.500000 |\n",
    "| 75% | 3.000000 | 38.000000 |\n",
    "| max | 2157.000000 | 49.000000 |"
   ]
  },
  {
   "cell_type": "markdown",
   "id": "0b276045",
   "metadata": {},
   "source": [
    "#### reviews_per_month\n",
    "---\n",
    "\n",
    "| Describ() | Original Dataset | Synthetic Dataset |\n",
    "| --- | --- | --- |\n",
    "| count | 6209.000000 | 100 |\n",
    "| mean | 1.319006 | 50.635770 |\n",
    "| std | 1.988691 | 29.003488 |\n",
    "| min | 0.010000 | 1.147728 |\n",
    "| 25% | 0.130000 | 28.648693 |\n",
    "| 50% | 0.610000 | 48.704830 |\n",
    "| 75% | 1.760000 | 78.349011 |\n",
    "| max | 44.720000 | 98.792955 |"
   ]
  },
  {
   "cell_type": "markdown",
   "id": "01cd2b64",
   "metadata": {},
   "source": [
    "#### reviews_scores_ratings\n",
    "---\n",
    "\n",
    "| Describ() | Original Dataset | Synthetic Dataset |\n",
    "| --- | --- | --- |\n",
    "| count | 6209.000000 | 100 |\n",
    "| mean | 4.603239 | 2.954290 |\n",
    "| std | 0.771441 | 1.267638 |\n",
    "| min |  0.000000 | 1.061739 |\n",
    "| 25% | 4.560000 | 1.849418 |\n",
    "| 50% | 4.810000 | 2.765855 |\n",
    "| 75% | 5.000000 | 4.168963 |\n",
    "| max | 5.000000 | 4.956015 |"
   ]
  },
  {
   "cell_type": "markdown",
   "id": "f9a234ac",
   "metadata": {},
   "source": [
    "#### price\n",
    "---\n",
    "\n",
    "| Describ() | Original Dataset | Synthetic Dataset |\n",
    "| --- | --- | --- |\n",
    "| count | 7566 | 100 |\n",
    "| mean | 0 | 319.290399 |\n",
    "| std | 0 | 109.441285 |\n",
    "| min | 0 | 101.584475 |\n",
    "| 25% | 0 | 223.767384 |\n",
    "| 50% | 0 | 317.825582 |\n",
    "| 75% | 0 | 421.203751 |\n",
    "| max | 0 | 498.639310 |"
   ]
  },
  {
   "cell_type": "markdown",
   "id": "11887dde",
   "metadata": {},
   "source": [
    "### Distributions:\n",
    "\n",
    "#### lognormal:\n",
    "#### numpy.random.Generator.lognormal\n",
    "\n",
    "---"
   ]
  },
  {
   "cell_type": "code",
   "execution_count": 46,
   "id": "45bf596d",
   "metadata": {},
   "outputs": [],
   "source": [
    "rng = np.random.default_rng()\n",
    "mu, sigma = 24., 14. # mean and standard deviation\n",
    "s = rng.lognormal(mu, sigma, 1000)"
   ]
  },
  {
   "cell_type": "code",
   "execution_count": 47,
   "id": "c2f69aed",
   "metadata": {},
   "outputs": [
    {
     "data": {
      "image/png": "[encoded data removed]",
      "text/plain": [
       "<Figure size 432x288 with 1 Axes>"
      ]
     },
     "metadata": {
      "needs_background": "light"
     },
     "output_type": "display_data"
    }
   ],
   "source": [
    "import matplotlib.pyplot as plt\n",
    "count, bins, ignored = plt.hist(s, 100, density=True, align='mid')"
   ]
  },
  {
   "cell_type": "code",
   "execution_count": 48,
   "id": "78f259d9",
   "metadata": {},
   "outputs": [],
   "source": [
    "x = np.linspace(min(bins), max(bins), 10000)\n",
    "pdf = (np.exp(-(np.log(x) - mu)**2 / (2 * sigma**2))\n",
    "       / (x * sigma * np.sqrt(2 * np.pi)))"
   ]
  },
  {
   "cell_type": "code",
   "execution_count": 49,
   "id": "2cfa502e",
   "metadata": {},
   "outputs": [
    {
     "data": {
      "image/png": "[encoded data removed]",
      "text/plain": [
       "<Figure size 432x288 with 1 Axes>"
      ]
     },
     "metadata": {
      "needs_background": "light"
     },
     "output_type": "display_data"
    }
   ],
   "source": [
    "plt.plot(x, pdf, linewidth=2, color='r')\n",
    "plt.axis('tight')\n",
    "plt.show()"
   ]
  },
  {
   "cell_type": "code",
   "execution_count": 50,
   "id": "7a232717",
   "metadata": {},
   "outputs": [],
   "source": [
    "# Generate a thousand samples: each is the product of 100 random\n",
    "# values, drawn from a normal distribution.\n",
    "rng = rng\n",
    "b = []\n",
    "for i in range(1000):\n",
    "   a = 10. + rng.standard_normal(100)\n",
    "   b.append(np.product(a))"
   ]
  },
  {
   "cell_type": "code",
   "execution_count": 51,
   "id": "8c676055",
   "metadata": {},
   "outputs": [
    {
     "data": {
      "image/png": "[encoded data removed]",
      "text/plain": [
       "<Figure size 432x288 with 1 Axes>"
      ]
     },
     "metadata": {
      "needs_background": "light"
     },
     "output_type": "display_data"
    }
   ],
   "source": [
    "b = np.array(b) / np.min(b) # scale values to be positive\n",
    "count, bins, ignored = plt.hist(b, 100, density=True, align='mid')\n",
    "sigma = np.std(np.log(b))\n",
    "mu = np.mean(np.log(b))"
   ]
  },
  {
   "cell_type": "code",
   "execution_count": 52,
   "id": "8996f1b0",
   "metadata": {},
   "outputs": [],
   "source": [
    "x = np.linspace(min(bins), max(bins), 10000)\n",
    "pdf = (np.exp(-(np.log(x) - mu)**2 / (2 * sigma**2))\n",
    "       / (x * sigma * np.sqrt(2 * np.pi)))"
   ]
  },
  {
   "cell_type": "code",
   "execution_count": 53,
   "id": "d3c7f2ba",
   "metadata": {},
   "outputs": [
    {
     "data": {
      "image/png": "[encoded data removed]",
      "text/plain": [
       "<Figure size 432x288 with 1 Axes>"
      ]
     },
     "metadata": {
      "needs_background": "light"
     },
     "output_type": "display_data"
    }
   ],
   "source": [
    "plt.plot(x, pdf, color='r', linewidth=2)\n",
    "plt.show()"
   ]
  },
  {
   "cell_type": "markdown",
   "id": "6ab2d93e",
   "metadata": {},
   "source": [
    "### Conclusion"
   ]
  },
  {
   "cell_type": "markdown",
   "id": "7fcdd887",
   "metadata": {},
   "source": [
    "To summarise this study, it is clear that the ability to generate a simulated dataset can be very beneficial and would have countless possibilities however, in the scenario above it did not provide the anticipated results. While I simulated a dataset, it did not have similar values to the control/original dataset. Further work may have been able to manipulate a similar result buy perhaps weighting the values in the control dataset.<br>\n",
    "\n",
    "I simulated two dataset, one using numpy.random and the other using ski-kit's sklearn package. The sklearn would appear to be ideal for creating artificial data due to its versatility."
   ]
  },
  {
   "cell_type": "markdown",
   "id": "79b2e7c2",
   "metadata": {},
   "source": [
    "![Image](https://qtxasset.com/cdn-cgi/image/w=850,h=478,f=auto,fit=crop,g=0.5x0.5/https://qtxasset.com/quartz/qcloud1/media/image/hotelmanagement/1546632060/Airbnb%20Logo.png/Airbnb%20Logo.png?VersionId=ThlQLEp0zFaHTe_93YSLwNNOHeweU0sd)"
   ]
  }
 ],
 "metadata": {
  "kernelspec": {
   "display_name": "Python 3 (ipykernel)",
   "language": "python",
   "name": "python3"
  },
  "language_info": {
   "codemirror_mode": {
    "name": "ipython",
    "version": 3
   },
   "file_extension": ".py",
   "mimetype": "text/x-python",
   "name": "python",
   "nbconvert_exporter": "python",
   "pygments_lexer": "ipython3",
   "version": "3.9.7"
  }
 },
 "nbformat": 4,
 "nbformat_minor": 5
}
