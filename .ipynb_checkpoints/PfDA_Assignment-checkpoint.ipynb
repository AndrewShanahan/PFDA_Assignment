{
 "cells": [
  {
   "cell_type": "markdown",
   "id": "5f040759",
   "metadata": {},
   "source": [
    "# Programming for Data Analysis Assignment"
   ]
  },
  {
   "cell_type": "markdown",
   "id": "f3c109d8",
   "metadata": {},
   "source": [
    "This notebook contains my submission for the project for the Programming for Data Analysis module, Winter 2022.\n",
    "\n",
    "I have selected to analyse Airbnb listings in Dublin, Ireland. This analysis will focus on rating scores.\n",
    "\n",
    "Problem Statement:\n",
    "\n",
    "For this project you must create a data set by simulating a real-world phenomenon of your choosing. You may pick any phenomenon you wish – you might pick one that is of interest to you in your personal or professional life. Then, rather than collect data\n",
    "related to the phenomenon, you should model and synthesise such data using Python. We suggest you use the numpy.random package for this purpose. Specifically, in this project you should:\n",
    "\n",
    "* Choose a real-world phenomenon that can be measured and for which you could collect at least one-hundred data points across at least four different variables.\n",
    "* Investigate the types of variables involved, their likely distributions, and their relationships with each other. * Synthesise/simulate a data set as closely matching their properties as possible.\n",
    "* Detail your research and implement the simulation in a Jupyter Notebook – the data set itself can simply be displayed in an output cell within the notebook.\n",
    "\n",
    "Note that this project is about simulation – you must synthesise a data set. Some students may already have some real-world data sets in their own files. It is okay to base your synthesised data set on these should you wish (please reference it if you do), but the main task in this project is to create a synthesised data set. The next section\n",
    "gives an example project idea.\n",
    "\n",
    "### Assumptions\n",
    "\n",
    "We assume that all the data from data sources (Airbnb) is correct in terms of values, addresses and their corresponding location.\n",
    "\n",
    "Prices of properties are not affected by seasonality."
   ]
  },
  {
   "cell_type": "markdown",
   "id": "af3b834e",
   "metadata": {},
   "source": [
    "![Image2](https://www.independent.ie/news/b7e3b/41599548.ece/AUTOCROP/w1240/AIRBNB-IPOFEES%20SPARE)"
   ]
  },
  {
   "cell_type": "markdown",
   "id": "d50e5da2",
   "metadata": {},
   "source": [
    "### Step 1: Import required libraries"
   ]
  },
  {
   "cell_type": "code",
   "execution_count": 5,
   "id": "69c41464",
   "metadata": {},
   "outputs": [],
   "source": [
    "# NumPy for numerical operations\n",
    "import numpy as np\n",
    "\n",
    "# Pandas for data analysis\n",
    "import pandas as pd\n",
    "\n",
    "# seaborn\n",
    "import seaborn as sns\n",
    "\n",
    "# random\n",
    "import random\n",
    "\n",
    "from scipy.stats import norm\n",
    "\n",
    "# Statistics for descriptive statistics\n",
    "import statistics\n",
    "\n",
    "# Matplotlib.pyplot for plotting\n",
    "import matplotlib.pyplot as plt\n",
    "\n",
    "# sklearn\n",
    "import sklearn.neighbors as nei\n",
    "\n",
    "from sklearn.neighbors import KNeighborsClassifier\n",
    "\n",
    "# Dataset URL. Please note that this CSV file is compressed due to its size\n",
    "url=\"http://data.insideairbnb.com/ireland/leinster/dublin/2022-09-11/data/listings.csv.gz\"\n",
    "\n",
    "# Importing the CSV file:\n",
    "listingsDF = pd.read_csv(url, compression=\"gzip\")"
   ]
  },
  {
   "cell_type": "code",
   "execution_count": 4,
   "id": "8cd73a6f",
   "metadata": {},
   "outputs": [
    {
     "data": {
      "text/plain": [
       "(7566, 75)"
      ]
     },
     "execution_count": 4,
     "metadata": {},
     "output_type": "execute_result"
    }
   ],
   "source": [
    "# As this is a zipped file, firstly I want to have a quick look and see the size of the data I am dealing with\n",
    "listingsDF.shape"
   ]
  },
  {
   "cell_type": "markdown",
   "id": "a64ff6f1",
   "metadata": {},
   "source": [
    "### Step 2: Explore and understand the data and data remediation<br>"
   ]
  },
  {
   "cell_type": "code",
   "execution_count": 17,
   "id": "f5316fa6",
   "metadata": {},
   "outputs": [
    {
     "data": {
      "text/plain": [
       "Index(['id', 'listing_url', 'scrape_id', 'last_scraped', 'source', 'name',\n",
       "       'description', 'neighborhood_overview', 'picture_url', 'host_id',\n",
       "       'host_url', 'host_name', 'host_since', 'host_location', 'host_about',\n",
       "       'host_response_time', 'host_response_rate', 'host_acceptance_rate',\n",
       "       'host_is_superhost', 'host_thumbnail_url', 'host_picture_url',\n",
       "       'host_neighbourhood', 'host_listings_count',\n",
       "       'host_total_listings_count', 'host_verifications',\n",
       "       'host_has_profile_pic', 'host_identity_verified', 'neighbourhood',\n",
       "       'neighbourhood_cleansed', 'neighbourhood_group_cleansed', 'latitude',\n",
       "       'longitude', 'property_type', 'room_type', 'accommodates', 'bathrooms',\n",
       "       'bathrooms_text', 'bedrooms', 'beds', 'amenities', 'price',\n",
       "       'minimum_nights', 'maximum_nights', 'minimum_minimum_nights',\n",
       "       'maximum_minimum_nights', 'minimum_maximum_nights',\n",
       "       'maximum_maximum_nights', 'minimum_nights_avg_ntm',\n",
       "       'maximum_nights_avg_ntm', 'calendar_updated', 'has_availability',\n",
       "       'availability_30', 'availability_60', 'availability_90',\n",
       "       'availability_365', 'calendar_last_scraped', 'number_of_reviews',\n",
       "       'number_of_reviews_ltm', 'number_of_reviews_l30d', 'first_review',\n",
       "       'last_review', 'review_scores_rating', 'review_scores_accuracy',\n",
       "       'review_scores_cleanliness', 'review_scores_checkin',\n",
       "       'review_scores_communication', 'review_scores_location',\n",
       "       'review_scores_value', 'license', 'instant_bookable',\n",
       "       'calculated_host_listings_count',\n",
       "       'calculated_host_listings_count_entire_homes',\n",
       "       'calculated_host_listings_count_private_rooms',\n",
       "       'calculated_host_listings_count_shared_rooms', 'reviews_per_month'],\n",
       "      dtype='object')"
      ]
     },
     "execution_count": 17,
     "metadata": {},
     "output_type": "execute_result"
    }
   ],
   "source": [
    "listingsDF.columns"
   ]
  },
  {
   "cell_type": "code",
   "execution_count": 42,
   "id": "1d1f73da",
   "metadata": {},
   "outputs": [
    {
     "data": {
      "text/html": [
       "<div>\n",
       "<style scoped>\n",
       "    .dataframe tbody tr th:only-of-type {\n",
       "        vertical-align: middle;\n",
       "    }\n",
       "\n",
       "    .dataframe tbody tr th {\n",
       "        vertical-align: top;\n",
       "    }\n",
       "\n",
       "    .dataframe thead th {\n",
       "        text-align: right;\n",
       "    }\n",
       "</style>\n",
       "<table border=\"1\" class=\"dataframe\">\n",
       "  <thead>\n",
       "    <tr style=\"text-align: right;\">\n",
       "      <th></th>\n",
       "      <th>id</th>\n",
       "      <th>listing_url</th>\n",
       "      <th>scrape_id</th>\n",
       "      <th>last_scraped</th>\n",
       "      <th>source</th>\n",
       "      <th>name</th>\n",
       "      <th>description</th>\n",
       "      <th>neighborhood_overview</th>\n",
       "      <th>picture_url</th>\n",
       "      <th>host_id</th>\n",
       "      <th>...</th>\n",
       "      <th>review_scores_communication</th>\n",
       "      <th>review_scores_location</th>\n",
       "      <th>review_scores_value</th>\n",
       "      <th>license</th>\n",
       "      <th>instant_bookable</th>\n",
       "      <th>calculated_host_listings_count</th>\n",
       "      <th>calculated_host_listings_count_entire_homes</th>\n",
       "      <th>calculated_host_listings_count_private_rooms</th>\n",
       "      <th>calculated_host_listings_count_shared_rooms</th>\n",
       "      <th>reviews_per_month</th>\n",
       "    </tr>\n",
       "  </thead>\n",
       "  <tbody>\n",
       "    <tr>\n",
       "      <th>0</th>\n",
       "      <td>44077</td>\n",
       "      <td>https://www.airbnb.com/rooms/44077</td>\n",
       "      <td>20220911231053</td>\n",
       "      <td>2022-09-12</td>\n",
       "      <td>city scrape</td>\n",
       "      <td>cosy comfortable Irish cottage twin</td>\n",
       "      <td>Our house was built in 1937 when there was ple...</td>\n",
       "      <td>I like our neighbourhood as there is no shorta...</td>\n",
       "      <td>https://a0.muscache.com/pictures/525706/050a3a...</td>\n",
       "      <td>193005</td>\n",
       "      <td>...</td>\n",
       "      <td>4.93</td>\n",
       "      <td>4.66</td>\n",
       "      <td>4.82</td>\n",
       "      <td>NaN</td>\n",
       "      <td>f</td>\n",
       "      <td>2</td>\n",
       "      <td>0</td>\n",
       "      <td>2</td>\n",
       "      <td>0</td>\n",
       "      <td>1.85</td>\n",
       "    </tr>\n",
       "    <tr>\n",
       "      <th>1</th>\n",
       "      <td>85156</td>\n",
       "      <td>https://www.airbnb.com/rooms/85156</td>\n",
       "      <td>20220911231053</td>\n",
       "      <td>2022-09-12</td>\n",
       "      <td>city scrape</td>\n",
       "      <td>Cosy Comfortable Irish Cottage  1 Double Bed</td>\n",
       "      <td>Our Cottage is a charming light filled cottage...</td>\n",
       "      <td>I love Dundrum and its surrounding areas ,&lt;br ...</td>\n",
       "      <td>https://a0.muscache.com/pictures/1749253/9ed2a...</td>\n",
       "      <td>193005</td>\n",
       "      <td>...</td>\n",
       "      <td>4.88</td>\n",
       "      <td>4.64</td>\n",
       "      <td>4.78</td>\n",
       "      <td>NaN</td>\n",
       "      <td>f</td>\n",
       "      <td>2</td>\n",
       "      <td>0</td>\n",
       "      <td>2</td>\n",
       "      <td>0</td>\n",
       "      <td>1.53</td>\n",
       "    </tr>\n",
       "    <tr>\n",
       "      <th>2</th>\n",
       "      <td>159889</td>\n",
       "      <td>https://www.airbnb.com/rooms/159889</td>\n",
       "      <td>20220911231053</td>\n",
       "      <td>2022-09-12</td>\n",
       "      <td>city scrape</td>\n",
       "      <td>Friendly Single Room</td>\n",
       "      <td>Washing can be done at a cost of €5  per load....</td>\n",
       "      <td>Plenty of buses into the city and the area is ...</td>\n",
       "      <td>https://a0.muscache.com/pictures/3031697/a8259...</td>\n",
       "      <td>766611</td>\n",
       "      <td>...</td>\n",
       "      <td>4.90</td>\n",
       "      <td>4.63</td>\n",
       "      <td>4.74</td>\n",
       "      <td>NaN</td>\n",
       "      <td>f</td>\n",
       "      <td>3</td>\n",
       "      <td>0</td>\n",
       "      <td>3</td>\n",
       "      <td>0</td>\n",
       "      <td>2.78</td>\n",
       "    </tr>\n",
       "    <tr>\n",
       "      <th>3</th>\n",
       "      <td>162809</td>\n",
       "      <td>https://www.airbnb.com/rooms/162809</td>\n",
       "      <td>20220911231053</td>\n",
       "      <td>2022-09-11</td>\n",
       "      <td>city scrape</td>\n",
       "      <td>5.5 miles south of Dublin City :^)</td>\n",
       "      <td>A nice place to relax after the bustle of the ...</td>\n",
       "      <td>Close to the sea, hill walks and the city - vi...</td>\n",
       "      <td>https://a0.muscache.com/pictures/86694529/c07b...</td>\n",
       "      <td>777681</td>\n",
       "      <td>...</td>\n",
       "      <td>4.97</td>\n",
       "      <td>4.77</td>\n",
       "      <td>4.85</td>\n",
       "      <td>NaN</td>\n",
       "      <td>f</td>\n",
       "      <td>2</td>\n",
       "      <td>0</td>\n",
       "      <td>2</td>\n",
       "      <td>0</td>\n",
       "      <td>3.68</td>\n",
       "    </tr>\n",
       "    <tr>\n",
       "      <th>4</th>\n",
       "      <td>165828</td>\n",
       "      <td>https://www.airbnb.com/rooms/165828</td>\n",
       "      <td>20220911231053</td>\n",
       "      <td>2022-09-11</td>\n",
       "      <td>city scrape</td>\n",
       "      <td>Pádraig Pearse apt. Kilmainham</td>\n",
       "      <td>Don't just visit Dublin, experience Dublin in ...</td>\n",
       "      <td>Enjoy a walk along the grand canal, or just ob...</td>\n",
       "      <td>https://a0.muscache.com/pictures/34311419/b3f6...</td>\n",
       "      <td>790601</td>\n",
       "      <td>...</td>\n",
       "      <td>4.75</td>\n",
       "      <td>4.34</td>\n",
       "      <td>4.55</td>\n",
       "      <td>NaN</td>\n",
       "      <td>t</td>\n",
       "      <td>5</td>\n",
       "      <td>5</td>\n",
       "      <td>0</td>\n",
       "      <td>0</td>\n",
       "      <td>0.48</td>\n",
       "    </tr>\n",
       "  </tbody>\n",
       "</table>\n",
       "<p>5 rows × 75 columns</p>\n",
       "</div>"
      ],
      "text/plain": [
       "       id                          listing_url       scrape_id last_scraped  \\\n",
       "0   44077   https://www.airbnb.com/rooms/44077  20220911231053   2022-09-12   \n",
       "1   85156   https://www.airbnb.com/rooms/85156  20220911231053   2022-09-12   \n",
       "2  159889  https://www.airbnb.com/rooms/159889  20220911231053   2022-09-12   \n",
       "3  162809  https://www.airbnb.com/rooms/162809  20220911231053   2022-09-11   \n",
       "4  165828  https://www.airbnb.com/rooms/165828  20220911231053   2022-09-11   \n",
       "\n",
       "        source                                          name  \\\n",
       "0  city scrape           cosy comfortable Irish cottage twin   \n",
       "1  city scrape  Cosy Comfortable Irish Cottage  1 Double Bed   \n",
       "2  city scrape                          Friendly Single Room   \n",
       "3  city scrape            5.5 miles south of Dublin City :^)   \n",
       "4  city scrape                Pádraig Pearse apt. Kilmainham   \n",
       "\n",
       "                                         description  \\\n",
       "0  Our house was built in 1937 when there was ple...   \n",
       "1  Our Cottage is a charming light filled cottage...   \n",
       "2  Washing can be done at a cost of €5  per load....   \n",
       "3  A nice place to relax after the bustle of the ...   \n",
       "4  Don't just visit Dublin, experience Dublin in ...   \n",
       "\n",
       "                               neighborhood_overview  \\\n",
       "0  I like our neighbourhood as there is no shorta...   \n",
       "1  I love Dundrum and its surrounding areas ,<br ...   \n",
       "2  Plenty of buses into the city and the area is ...   \n",
       "3  Close to the sea, hill walks and the city - vi...   \n",
       "4  Enjoy a walk along the grand canal, or just ob...   \n",
       "\n",
       "                                         picture_url  host_id  ...  \\\n",
       "0  https://a0.muscache.com/pictures/525706/050a3a...   193005  ...   \n",
       "1  https://a0.muscache.com/pictures/1749253/9ed2a...   193005  ...   \n",
       "2  https://a0.muscache.com/pictures/3031697/a8259...   766611  ...   \n",
       "3  https://a0.muscache.com/pictures/86694529/c07b...   777681  ...   \n",
       "4  https://a0.muscache.com/pictures/34311419/b3f6...   790601  ...   \n",
       "\n",
       "  review_scores_communication review_scores_location review_scores_value  \\\n",
       "0                        4.93                   4.66                4.82   \n",
       "1                        4.88                   4.64                4.78   \n",
       "2                        4.90                   4.63                4.74   \n",
       "3                        4.97                   4.77                4.85   \n",
       "4                        4.75                   4.34                4.55   \n",
       "\n",
       "  license instant_bookable calculated_host_listings_count  \\\n",
       "0     NaN                f                              2   \n",
       "1     NaN                f                              2   \n",
       "2     NaN                f                              3   \n",
       "3     NaN                f                              2   \n",
       "4     NaN                t                              5   \n",
       "\n",
       "  calculated_host_listings_count_entire_homes  \\\n",
       "0                                           0   \n",
       "1                                           0   \n",
       "2                                           0   \n",
       "3                                           0   \n",
       "4                                           5   \n",
       "\n",
       "  calculated_host_listings_count_private_rooms  \\\n",
       "0                                            2   \n",
       "1                                            2   \n",
       "2                                            3   \n",
       "3                                            2   \n",
       "4                                            0   \n",
       "\n",
       "  calculated_host_listings_count_shared_rooms reviews_per_month  \n",
       "0                                           0              1.85  \n",
       "1                                           0              1.53  \n",
       "2                                           0              2.78  \n",
       "3                                           0              3.68  \n",
       "4                                           0              0.48  \n",
       "\n",
       "[5 rows x 75 columns]"
      ]
     },
     "execution_count": 42,
     "metadata": {},
     "output_type": "execute_result"
    }
   ],
   "source": [
    "# Having an initial look at the data\n",
    "\n",
    "listingsDF.head()"
   ]
  },
  {
   "cell_type": "code",
   "execution_count": 43,
   "id": "4048ae2e",
   "metadata": {},
   "outputs": [
    {
     "name": "stdout",
     "output_type": "stream",
     "text": [
      "<class 'pandas.core.frame.DataFrame'>\n",
      "RangeIndex: 7566 entries, 0 to 7565\n",
      "Data columns (total 75 columns):\n",
      " #   Column                                        Non-Null Count  Dtype  \n",
      "---  ------                                        --------------  -----  \n",
      " 0   id                                            7566 non-null   int64  \n",
      " 1   listing_url                                   7566 non-null   object \n",
      " 2   scrape_id                                     7566 non-null   int64  \n",
      " 3   last_scraped                                  7566 non-null   object \n",
      " 4   source                                        7566 non-null   object \n",
      " 5   name                                          7566 non-null   object \n",
      " 6   description                                   7411 non-null   object \n",
      " 7   neighborhood_overview                         4194 non-null   object \n",
      " 8   picture_url                                   7566 non-null   object \n",
      " 9   host_id                                       7566 non-null   int64  \n",
      " 10  host_url                                      7566 non-null   object \n",
      " 11  host_name                                     7566 non-null   object \n",
      " 12  host_since                                    7566 non-null   object \n",
      " 13  host_location                                 6232 non-null   object \n",
      " 14  host_about                                    3556 non-null   object \n",
      " 15  host_response_time                            3932 non-null   object \n",
      " 16  host_response_rate                            3932 non-null   object \n",
      " 17  host_acceptance_rate                          4191 non-null   object \n",
      " 18  host_is_superhost                             7566 non-null   object \n",
      " 19  host_thumbnail_url                            7566 non-null   object \n",
      " 20  host_picture_url                              7566 non-null   object \n",
      " 21  host_neighbourhood                            5234 non-null   object \n",
      " 22  host_listings_count                           7566 non-null   int64  \n",
      " 23  host_total_listings_count                     7566 non-null   int64  \n",
      " 24  host_verifications                            7566 non-null   object \n",
      " 25  host_has_profile_pic                          7566 non-null   object \n",
      " 26  host_identity_verified                        7566 non-null   object \n",
      " 27  neighbourhood                                 4194 non-null   object \n",
      " 28  neighbourhood_cleansed                        7566 non-null   object \n",
      " 29  neighbourhood_group_cleansed                  0 non-null      float64\n",
      " 30  latitude                                      7566 non-null   float64\n",
      " 31  longitude                                     7566 non-null   float64\n",
      " 32  property_type                                 7566 non-null   object \n",
      " 33  room_type                                     7566 non-null   object \n",
      " 34  accommodates                                  7566 non-null   int64  \n",
      " 35  bathrooms                                     0 non-null      float64\n",
      " 36  bathrooms_text                                7562 non-null   object \n",
      " 37  bedrooms                                      7361 non-null   float64\n",
      " 38  beds                                          7472 non-null   float64\n",
      " 39  amenities                                     7566 non-null   object \n",
      " 40  price                                         7566 non-null   object \n",
      " 41  minimum_nights                                7566 non-null   int64  \n",
      " 42  maximum_nights                                7566 non-null   int64  \n",
      " 43  minimum_minimum_nights                        7566 non-null   int64  \n",
      " 44  maximum_minimum_nights                        7566 non-null   int64  \n",
      " 45  minimum_maximum_nights                        7566 non-null   int64  \n",
      " 46  maximum_maximum_nights                        7566 non-null   int64  \n",
      " 47  minimum_nights_avg_ntm                        7566 non-null   float64\n",
      " 48  maximum_nights_avg_ntm                        7566 non-null   float64\n",
      " 49  calendar_updated                              0 non-null      float64\n",
      " 50  has_availability                              7566 non-null   object \n",
      " 51  availability_30                               7566 non-null   int64  \n",
      " 52  availability_60                               7566 non-null   int64  \n",
      " 53  availability_90                               7566 non-null   int64  \n",
      " 54  availability_365                              7566 non-null   int64  \n",
      " 55  calendar_last_scraped                         7566 non-null   object \n",
      " 56  number_of_reviews                             7566 non-null   int64  \n",
      " 57  number_of_reviews_ltm                         7566 non-null   int64  \n",
      " 58  number_of_reviews_l30d                        7566 non-null   int64  \n",
      " 59  first_review                                  6209 non-null   object \n",
      " 60  last_review                                   6209 non-null   object \n",
      " 61  review_scores_rating                          6209 non-null   float64\n",
      " 62  review_scores_accuracy                        6085 non-null   float64\n",
      " 63  review_scores_cleanliness                     6086 non-null   float64\n",
      " 64  review_scores_checkin                         6081 non-null   float64\n",
      " 65  review_scores_communication                   6085 non-null   float64\n",
      " 66  review_scores_location                        6081 non-null   float64\n",
      " 67  review_scores_value                           6079 non-null   float64\n",
      " 68  license                                       0 non-null      float64\n",
      " 69  instant_bookable                              7566 non-null   object \n",
      " 70  calculated_host_listings_count                7566 non-null   int64  \n",
      " 71  calculated_host_listings_count_entire_homes   7566 non-null   int64  \n",
      " 72  calculated_host_listings_count_private_rooms  7566 non-null   int64  \n",
      " 73  calculated_host_listings_count_shared_rooms   7566 non-null   int64  \n",
      " 74  reviews_per_month                             6209 non-null   float64\n",
      "dtypes: float64(18), int64(23), object(34)\n",
      "memory usage: 4.3+ MB\n"
     ]
    }
   ],
   "source": [
    "# Continuing to review the csv file\n",
    "\n",
    "listingsDF.info()"
   ]
  },
  {
   "cell_type": "code",
   "execution_count": null,
   "id": "65251cd1",
   "metadata": {},
   "outputs": [],
   "source": [
    "# Firstly, I want to get rid of any listings that haven't yet been reviewed\n",
    "listingsDF.dropna(subset=['first_review'], inplace=True)\n",
    "listingsDF.drop(columns=['first_review'], inplace= True)"
   ]
  },
  {
   "cell_type": "code",
   "execution_count": 10,
   "id": "4f72816b",
   "metadata": {},
   "outputs": [
    {
     "data": {
      "text/plain": [
       "license                         1.000000\n",
       "bathrooms                       1.000000\n",
       "calendar_updated                1.000000\n",
       "neighbourhood_group_cleansed    1.000000\n",
       "host_about                      0.503624\n",
       "host_response_time              0.458206\n",
       "host_response_rate              0.458206\n",
       "host_acceptance_rate            0.419391\n",
       "neighbourhood                   0.406507\n",
       "neighborhood_overview           0.406507\n",
       "host_neighbourhood              0.306974\n",
       "host_location                   0.162184\n",
       "bedrooms                        0.026896\n",
       "review_scores_value             0.020937\n",
       "review_scores_location          0.020615\n",
       "review_scores_checkin           0.020615\n",
       "review_scores_accuracy          0.019971\n",
       "review_scores_communication     0.019971\n",
       "review_scores_cleanliness       0.019810\n",
       "description                     0.017233\n",
       "beds                            0.011435\n",
       "bathrooms_text                  0.000483\n",
       "dtype: float64"
      ]
     },
     "execution_count": 10,
     "metadata": {},
     "output_type": "execute_result"
    }
   ],
   "source": [
    "# Now I will look for null values in the columns\n",
    "\n",
    "listingsDF.isnull().mean()[listings.isnull().mean()>0].sort_values(ascending=False)"
   ]
  },
  {
   "cell_type": "markdown",
   "id": "130f7414",
   "metadata": {},
   "source": [
    "I have decided that I will be focusing on 5 columns in this project however I also want to keep my original listingsDF as it is in the event I want to do any further analysis on this data contained in it.\n",
    "\n",
    "On that basis, I have decided to make a new version of the file and call it 'listingsDF2'.\n",
    "\n",
    "While I have chosen to make a new file, I would have like to demonstrate manipulating my dataset by cleaning it up and dropping irrelevant fields. I would have done this with the code: \n",
    "\n",
    "dropcols = ['Column_1', 'Column_2', etc]\n",
    "listings.drop(columns=dropcols, inplace=True)"
   ]
  },
  {
   "cell_type": "code",
   "execution_count": 2,
   "id": "64a8ff61",
   "metadata": {},
   "outputs": [],
   "source": [
    "# From review of the data, I have decided I will only keep a small number of columns for my analysis and remove the rest.\n",
    "\n",
    "# Columns that I am keeping: 'host_id', 'host_listings_count', 'reviews_per_month', 'reviews_score_rating', 'price'\n",
    "\n",
    "listingsDF2 = listingsDF[['host_id','host_listings_count','reviews_per_month','review_scores_rating','price']].copy()"
   ]
  },
  {
   "cell_type": "code",
   "execution_count": 29,
   "id": "c47c01b5",
   "metadata": {},
   "outputs": [
    {
     "data": {
      "text/plain": [
       "(7566, 5)"
      ]
     },
     "execution_count": 29,
     "metadata": {},
     "output_type": "execute_result"
    }
   ],
   "source": [
    "listingsDF2.shape"
   ]
  },
  {
   "cell_type": "code",
   "execution_count": 30,
   "id": "735b2105",
   "metadata": {},
   "outputs": [
    {
     "name": "stdout",
     "output_type": "stream",
     "text": [
      "<class 'pandas.core.frame.DataFrame'>\n",
      "RangeIndex: 7566 entries, 0 to 7565\n",
      "Data columns (total 5 columns):\n",
      " #   Column                Non-Null Count  Dtype  \n",
      "---  ------                --------------  -----  \n",
      " 0   host_id               7566 non-null   int64  \n",
      " 1   host_listings_count   7566 non-null   int64  \n",
      " 2   reviews_per_month     6209 non-null   float64\n",
      " 3   review_scores_rating  6209 non-null   float64\n",
      " 4   price                 7566 non-null   object \n",
      "dtypes: float64(2), int64(2), object(1)\n",
      "memory usage: 295.7+ KB\n"
     ]
    }
   ],
   "source": [
    "# I want to make sure my new 'listingsDF2' is showing correct info\n",
    "\n",
    "listingsDF2.info()"
   ]
  },
  {
   "cell_type": "code",
   "execution_count": 32,
   "id": "31a1aef6",
   "metadata": {},
   "outputs": [
    {
     "data": {
      "text/plain": [
       "reviews_per_month       0.179355\n",
       "review_scores_rating    0.179355\n",
       "dtype: float64"
      ]
     },
     "execution_count": 32,
     "metadata": {},
     "output_type": "execute_result"
    }
   ],
   "source": [
    "# Continuing with reviewing the dataset, I want to check for nulls \n",
    "listingsDF2.isnull().mean()[listingsDF2.isnull().mean()>0].sort_values(ascending=False)"
   ]
  },
  {
   "cell_type": "code",
   "execution_count": 33,
   "id": "d7d3a393",
   "metadata": {},
   "outputs": [
    {
     "data": {
      "text/plain": [
       "count    7.566000e+03\n",
       "mean     1.165346e+08\n",
       "std      1.257774e+08\n",
       "min      4.398400e+04\n",
       "25%      2.500539e+07\n",
       "50%      6.773535e+07\n",
       "75%      1.624988e+08\n",
       "max      4.787894e+08\n",
       "Name: host_id, dtype: float64"
      ]
     },
     "execution_count": 33,
     "metadata": {},
     "output_type": "execute_result"
    }
   ],
   "source": [
    "# Using DataFrame.describe() method to get my statistical analysis for my listings dataframe\n",
    "\n",
    "host_id_stats = listingsDF2.loc[:,'host_id']\n",
    "host_id_stats.describe()\n",
    "\n",
    "host_id_stats.describe()"
   ]
  },
  {
   "cell_type": "code",
   "execution_count": 37,
   "id": "f43c4c5e",
   "metadata": {},
   "outputs": [
    {
     "data": {
      "text/plain": [
       "count    7566.000000\n",
       "mean       24.575601\n",
       "std       202.623363\n",
       "min         1.000000\n",
       "25%         1.000000\n",
       "50%         1.000000\n",
       "75%         3.000000\n",
       "max      2157.000000\n",
       "Name: host_listings_count, dtype: float64"
      ]
     },
     "execution_count": 37,
     "metadata": {},
     "output_type": "execute_result"
    }
   ],
   "source": [
    "# Using DataFrame.describe() method to get my statistical analysis for my listings dataframe\n",
    "\n",
    "host_listings_count_stats = listingsDF2.loc[:,'host_listings_count']\n",
    "host_listings_count_stats.describe()\n",
    "\n",
    "host_listings_count_stats.describe()"
   ]
  },
  {
   "cell_type": "code",
   "execution_count": 36,
   "id": "9237167a",
   "metadata": {},
   "outputs": [
    {
     "data": {
      "text/plain": [
       "count    6209.000000\n",
       "mean        1.319006\n",
       "std         1.988691\n",
       "min         0.010000\n",
       "25%         0.130000\n",
       "50%         0.610000\n",
       "75%         1.760000\n",
       "max        44.720000\n",
       "Name: reviews_per_month, dtype: float64"
      ]
     },
     "execution_count": 36,
     "metadata": {},
     "output_type": "execute_result"
    }
   ],
   "source": [
    "# Using DataFrame.describe() method to get my statistical analysis for my listings dataframe\n",
    "\n",
    "reviews_per_month_stats = listingsDF2.loc[:,'reviews_per_month']\n",
    "reviews_per_month_stats.describe()\n",
    "\n",
    "reviews_per_month_stats.describe()"
   ]
  },
  {
   "cell_type": "code",
   "execution_count": 38,
   "id": "d7566072",
   "metadata": {},
   "outputs": [
    {
     "data": {
      "text/plain": [
       "count    6209.000000\n",
       "mean        4.603239\n",
       "std         0.771441\n",
       "min         0.000000\n",
       "25%         4.560000\n",
       "50%         4.810000\n",
       "75%         5.000000\n",
       "max         5.000000\n",
       "Name: review_scores_rating, dtype: float64"
      ]
     },
     "execution_count": 38,
     "metadata": {},
     "output_type": "execute_result"
    }
   ],
   "source": [
    "# Using DataFrame.describe() method to get my statistical analysis for my listings dataframe\n",
    "\n",
    "review_scores_rating_stats = listingsDF2.loc[:,'review_scores_rating']\n",
    "review_scores_rating_stats.describe()\n",
    "\n",
    "review_scores_rating_stats.describe()"
   ]
  },
  {
   "cell_type": "code",
   "execution_count": 39,
   "id": "7c7af7ea",
   "metadata": {},
   "outputs": [
    {
     "data": {
      "text/plain": [
       "count        7566\n",
       "unique        547\n",
       "top       $100.00\n",
       "freq          235\n",
       "Name: price, dtype: object"
      ]
     },
     "execution_count": 39,
     "metadata": {},
     "output_type": "execute_result"
    }
   ],
   "source": [
    "# Using DataFrame.describe() method to get my statistical analysis for my listings dataframe\n",
    "\n",
    "price_stats = listingsDF2.loc[:,'price']\n",
    "price_stats.describe()\n",
    "\n",
    "price_stats.describe()"
   ]
  },
  {
   "cell_type": "code",
   "execution_count": 63,
   "id": "c3ac5ec1",
   "metadata": {},
   "outputs": [
    {
     "data": {
      "image/png": "[encoded data removed]",
      "text/plain": [
       "<Figure size 576x576 with 1 Axes>"
      ]
     },
     "metadata": {},
     "output_type": "display_data"
    }
   ],
   "source": [
    "# Reverting back to listingsDF to illustrate some charts\n",
    "\n",
    "# Pie chart of Room Type\n",
    "\n",
    "# As I have not yet dropped the columns that I am not interested in, I have taken this opportunity to showcase ability to add graphs and charts\n",
    "# I am aware this pie chart contains variables that I am not reviewing, it is being used to illustrate my ability to display charts and diagrams.\n",
    "\n",
    "listingsDF['room_type'].value_counts().plot(kind = 'pie', colors=['green', 'gold', 'black'], figsize = (8, 8))\n",
    "plt.title('Pie Chart for Room Type Distribution', fontsize = 20)\n",
    "plt.xlabel('Room Type')\n",
    "plt.ylabel('Number of entries')\n",
    "plt.show()"
   ]
  },
  {
   "cell_type": "code",
   "execution_count": 65,
   "id": "2c34b783",
   "metadata": {},
   "outputs": [
    {
     "data": {
      "text/plain": [
       "Text(0.5, 1.0, 'Distribution of reviews in the top neighbourhoods')"
      ]
     },
     "execution_count": 65,
     "metadata": {},
     "output_type": "execute_result"
    },
    {
     "data": {
      "image/png": "[encoded data removed]",
      "text/plain": [
       "<Figure size 576x432 with 1 Axes>"
      ]
     },
     "metadata": {
      "needs_background": "light"
     },
     "output_type": "display_data"
    }
   ],
   "source": [
    "# Again, as per note above, this graph is for illustrative purposes, I thought it would be a nice opportunity to show different areas.\n",
    "\n",
    "# Distribution of neighbourhoods, unfortunately the csv file did not have a detailed breakdown of locations in Dublin, Ireland,\n",
    "# however, for illustrative purposes, plot was added.\n",
    "\n",
    "neighs = listingsDF.groupby('neighbourhood')\n",
    "reviews = neighs['number_of_reviews'].sum().sort_values().tail(5)\n",
    "\n",
    "reviews.plot(kind = 'bar', color=['#e59e6d', '#ba9653', '#963821', 'black', '#007a33'], figsize = (8, 6))\n",
    "plt.xlabel('Neighbourhood')\n",
    "plt.ylabel('Reviews')\n",
    "plt.title('Distribution of reviews in the top neighbourhoods')"
   ]
  },
  {
   "cell_type": "code",
   "execution_count": 66,
   "id": "617fe04b",
   "metadata": {},
   "outputs": [
    {
     "name": "stdout",
     "output_type": "stream",
     "text": [
      "The neighbourhood with the most listings is Dublin, County Dublin, Ireland with 1127 properties\n"
     ]
    }
   ],
   "source": [
    "# As per above, showing my ability to analyse a dataset.\n",
    "\n",
    "# Distribution of neighbourhoods, unfortunately the csv file did not have a detailed breakdown of locations in Dublin, Ireland,\n",
    "# however, for illustrative purposes, code was included.\n",
    "\n",
    "res = listingsDF['neighbourhood'].value_counts()\n",
    "# We want the most common neighbourhood, thus the head of the list\n",
    "neig = res.keys().tolist()[0]\n",
    "# And also the properties it has\n",
    "n_props = res.tolist()[0]\n",
    "print(\"The neighbourhood with the most listings is {} with {} properties\".format(neig, n_props))"
   ]
  },
  {
   "cell_type": "markdown",
   "id": "62cec5cc",
   "metadata": {},
   "source": [
    "### Step 3A: Simulating the data and Random Samples - Using numpy.random"
   ]
  },
  {
   "cell_type": "markdown",
   "id": "513bde10",
   "metadata": {},
   "source": [
    "#### Chosen variables:\n",
    "---\n",
    "\n",
    "* host_idSD (int64)\n",
    "* host_listings_countSD (int64)\n",
    "* reviews_per_monthSD (float64)\n",
    "* review_scores_ratingSD (float64)\n",
    "* priceSD (object)"
   ]
  },
  {
   "cell_type": "code",
   "execution_count": 4,
   "id": "ac180090",
   "metadata": {},
   "outputs": [
    {
     "name": "stdout",
     "output_type": "stream",
     "text": [
      "[4832 9567 1437 5627 6695 9567 7638 2854 1905 7763 6482 9146 9896 1858\n",
      " 4934 9532 3838 2948 6005 1990 2990 3618 3514 8324 6675 2593 1735 6135\n",
      " 9293 4688 5862 5460 3236 1207 8132 7117 4250 4384 3666 5839 8415 9179\n",
      " 1572 5623 2325 1375 8320 4167 9950 9474 9873 4019 5206 2868 8975 6373\n",
      " 7422 3816 3698 8924 8126 7754 5412 7112 8956 5753 3825 4885 9389 9257\n",
      " 2695 7411 4078 1641 1185 7687 7831 1214 1261 3523 3650 7564 2280 8497\n",
      " 4396 7133 3134 7919 8421 1358 4721 1266 4161 9526 6222 5008 6414 5105\n",
      " 7158 7701]\n"
     ]
    }
   ],
   "source": [
    "# host_idSD\n",
    "\n",
    "## generate a random array of 100 host id's between 1000 and 9999\n",
    "\n",
    "host_idSD_array = np.random.randint(low=1000, high=9999, size=100) \n",
    "print(host_idSD_array)"
   ]
  },
  {
   "cell_type": "code",
   "execution_count": 5,
   "id": "6b9ca931",
   "metadata": {},
   "outputs": [
    {
     "name": "stdout",
     "output_type": "stream",
     "text": [
      "[ 1 24 40 39 34 42 33 30 25 47  2 36 44 39 49 22 27 37 43 16 38  4 47 28\n",
      "  4 15 42  8 29 17  2 31 19 28 38 10 26  8 44  1  3 17 47 28 16 24  1 14\n",
      " 10  7  1 18 20 14 37 22  5 49 15 49 23 15 24  4 15 28  5 21 16 23 21 24\n",
      " 16 21 21 41 21 29 16 27 22 28 16 14  7 35 32  6 49 34 42  3  4 49 41  9\n",
      "  8 48 30 36]\n"
     ]
    }
   ],
   "source": [
    "# host_listings_countSD\n",
    "\n",
    "## generate a random array of 100 host listings count between 1 and 50\n",
    "\n",
    "host_listings_countSD_array = np.random.randint(low=1, high=50, size=100) \n",
    "print(host_listings_countSD_array)"
   ]
  },
  {
   "cell_type": "code",
   "execution_count": 6,
   "id": "9a42fb0b",
   "metadata": {},
   "outputs": [
    {
     "ename": "NameError",
     "evalue": "name 'host_listings_countSD' is not defined",
     "output_type": "error",
     "traceback": [
      "\u001b[1;31m---------------------------------------------------------------------------\u001b[0m",
      "\u001b[1;31mNameError\u001b[0m                                 Traceback (most recent call last)",
      "\u001b[1;32m~\\AppData\\Local\\Temp/ipykernel_15928/3485997730.py\u001b[0m in \u001b[0;36m<module>\u001b[1;34m\u001b[0m\n\u001b[1;32m----> 1\u001b[1;33m \u001b[0msns\u001b[0m\u001b[1;33m.\u001b[0m\u001b[0mdisplot\u001b[0m\u001b[1;33m(\u001b[0m\u001b[0mhost_listings_countSD\u001b[0m\u001b[1;33m,\u001b[0m \u001b[0mcolor\u001b[0m \u001b[1;33m=\u001b[0m \u001b[1;34m'green'\u001b[0m\u001b[1;33m)\u001b[0m\u001b[1;33m\u001b[0m\u001b[1;33m\u001b[0m\u001b[0m\n\u001b[0m\u001b[0;32m      2\u001b[0m \u001b[0mplt\u001b[0m\u001b[1;33m.\u001b[0m\u001b[0mtitle\u001b[0m\u001b[1;33m(\u001b[0m\u001b[1;34m'Host Listings Count'\u001b[0m\u001b[1;33m)\u001b[0m\u001b[1;33m\u001b[0m\u001b[1;33m\u001b[0m\u001b[0m\n\u001b[0;32m      3\u001b[0m \u001b[0mplt\u001b[0m\u001b[1;33m.\u001b[0m\u001b[0mxlabel\u001b[0m\u001b[1;33m(\u001b[0m\u001b[1;34m'No of listings'\u001b[0m\u001b[1;33m)\u001b[0m\u001b[1;33m\u001b[0m\u001b[1;33m\u001b[0m\u001b[0m\n\u001b[0;32m      4\u001b[0m \u001b[0mplt\u001b[0m\u001b[1;33m.\u001b[0m\u001b[0mshow\u001b[0m\u001b[1;33m(\u001b[0m\u001b[1;33m)\u001b[0m\u001b[1;33m\u001b[0m\u001b[1;33m\u001b[0m\u001b[0m\n",
      "\u001b[1;31mNameError\u001b[0m: name 'host_listings_countSD' is not defined"
     ]
    }
   ],
   "source": [
    "sns.displot(host_listings_countSD, color = 'green')\n",
    "plt.title('Host Listings Count')\n",
    "plt.xlabel('No of listings')\n",
    "plt.show()"
   ]
  },
  {
   "cell_type": "code",
   "execution_count": 7,
   "id": "cee71fb0",
   "metadata": {},
   "outputs": [
    {
     "name": "stdout",
     "output_type": "stream",
     "text": [
      "[28.90999125 91.63869162 12.05664536 55.16779464 79.70951994 47.38410793\n",
      " 66.86350004 98.73199497 45.26778765 89.14144176 70.3417097  81.44002535\n",
      " 50.90735384 79.62528409 82.4318259  73.41442348  4.47331214 43.57459238\n",
      " 51.69452545  8.09542916 77.90484389  2.50740698 27.54732564 68.24784807\n",
      "  7.25170477  2.19010143 40.85355372  6.46446143 50.0300393  40.95735513\n",
      " 32.92217443 12.97851741 50.0966401  67.50989639 93.22314781 16.4131754\n",
      " 13.22265056 58.32313453 64.13644487 67.83311692 31.80901748 80.70906141\n",
      " 29.68239092 69.38926744 51.72345552 75.59022594  9.25609844 76.56793699\n",
      " 18.81440538 59.75329227 20.31253915 25.67706694 31.21649462 70.05782665\n",
      " 90.75945942 23.5591141  51.538616   61.48374391 39.38772599 96.17497979\n",
      " 45.61015362 82.69061135  6.25338174  9.28406807  4.07044998 98.74448536\n",
      " 98.78825218 48.57769987 34.08276064 11.98229084 96.33673091 74.56078771\n",
      " 30.92198942 44.420644   40.35169685 75.44915455 27.34597018 96.74106524\n",
      " 27.09299832 57.09231189 98.90203315 89.85396256 80.61126391 95.35544912\n",
      " 61.54189083 21.92730316 30.35275525 38.09849754 69.7047319  96.14394793\n",
      "  1.13542337 53.53378453 45.95976497 13.42186129 35.22052559 55.22736497\n",
      " 31.46138983 97.43189883 26.71799821 37.3249127 ]\n"
     ]
    }
   ],
   "source": [
    "# reviews_per_monthSD_array\n",
    "\n",
    "# create a list of reviews bins\n",
    "\n",
    "# This datatype I had originally had as a list of options but now I have just amended this to an integer in order to facilitate adding this array to the dataframe.\n",
    "\n",
    "reviews_per_monthSD_array = np.random.uniform(low=1.0, high=100.0, size=(100,))\n",
    "print(reviews_per_monthSD_array)"
   ]
  },
  {
   "cell_type": "code",
   "execution_count": 8,
   "id": "33e5a9fc",
   "metadata": {},
   "outputs": [
    {
     "name": "stdout",
     "output_type": "stream",
     "text": [
      "[1.34200382 1.35943459 3.23538331 2.23773134 2.12781747 1.16387416\n",
      " 3.50379062 2.4664454  2.18588447 1.04908189 1.51271081 1.79567606\n",
      " 4.63237204 4.48139212 2.6239525  2.49659169 4.3197566  3.18566919\n",
      " 2.87668055 4.58887119 1.45205141 2.71555606 4.56783551 1.37249952\n",
      " 4.2661853  2.43933813 3.67500341 3.55443272 1.51126273 2.18711025\n",
      " 1.59653892 4.25963723 1.51549208 1.56389786 1.54685191 2.7058539\n",
      " 2.98654945 2.52626002 2.91930168 3.21685561 3.74643641 4.68137322\n",
      " 1.89258735 2.41743753 3.82282934 1.7574317  3.31415786 4.99798501\n",
      " 1.69508808 3.84868629 3.11287282 3.96454208 2.83553233 1.7639484\n",
      " 1.05523039 2.25299738 1.14048889 3.76808345 4.62536573 1.97602282\n",
      " 1.71683938 1.59146102 1.42947514 3.71763051 2.03985186 4.64468309\n",
      " 1.30475296 3.53939855 2.09214927 2.89738741 4.03659263 2.26328665\n",
      " 3.55140459 2.99148251 1.54333601 2.18792911 4.5762131  1.35288083\n",
      " 2.09491421 2.04345799 4.44580779 3.59897931 1.61215105 1.741179\n",
      " 1.45358933 1.49282491 4.29155398 3.04034121 4.36803424 1.83919896\n",
      " 2.15749004 4.61747934 4.51910358 1.61024775 1.48574272 4.25981745\n",
      " 3.59321914 1.56090674 1.54522119 2.57300589]\n"
     ]
    }
   ],
   "source": [
    "# review_scores_ratingSD_array\n",
    "\n",
    "review_scores_ratingSD_array = np.random.uniform(low=1.0, high=5.0, size=(100,))\n",
    "print(review_scores_ratingSD_array)"
   ]
  },
  {
   "cell_type": "code",
   "execution_count": 9,
   "id": "df7468c9",
   "metadata": {},
   "outputs": [
    {
     "name": "stdout",
     "output_type": "stream",
     "text": [
      "[387.56515957 393.70409422 100.45500121 375.29818972 417.49531147\n",
      " 403.33113465 128.48525073 110.63351274 356.47376992 146.08031717\n",
      " 311.95692552 437.20894223 124.43738784 419.81044714 284.82475076\n",
      " 240.6329669  320.89879586 468.22178674 194.77052916 246.39649887\n",
      " 445.06950272 373.655016   118.0757889  301.2370581  490.58450498\n",
      " 281.32020457 327.93112228 372.3017226  466.68450951 383.95654967\n",
      " 382.53892681 143.79111296 251.81131212 116.86354071 464.23274688\n",
      " 176.45414357 318.15495884 400.26364213 134.99978429 458.41343709\n",
      " 469.32623585 446.58928795 396.27735081 469.16716907 476.09789083\n",
      " 204.00124738 250.15264199 469.74990747 289.95871026 193.76822661\n",
      " 415.86671722 185.57167518 384.71308088 124.20186664 375.48051543\n",
      " 148.61627107 103.40855118 225.39464987 464.68120719 431.23561042\n",
      " 295.86169794 443.60630861 493.03125097 164.25973053 435.03828473\n",
      " 145.15598261 407.69298793 393.32074964 197.36179192 264.84420411\n",
      " 130.39251291 469.86883672 158.07449956 134.03963732 311.73929955\n",
      " 115.88758887 241.26434766 180.03591126 134.19420778 116.15225276\n",
      " 237.70041217 174.9225028  336.80910108 449.93698626 447.65274241\n",
      " 371.75102821 239.3965774  232.510012   346.15152141 176.51790209\n",
      " 426.15609423 187.51355287 218.32000073 312.63833106 472.46927006\n",
      " 188.59375649 493.0583568  102.06691303 309.94489659 368.24532013]\n"
     ]
    }
   ],
   "source": [
    "#priceSD_array (object) - Please note, while the datatype for price in listings is 'object', I am going to assume in my new dataset that this is a float.\n",
    "\n",
    "priceSD_array = np.random.uniform(low=100.0, high=500.0, size=(100,))\n",
    "print(priceSD_array)"
   ]
  },
  {
   "cell_type": "markdown",
   "id": "ff231c96",
   "metadata": {},
   "source": [
    "So far in Step 3, I have created my 5 variables and simulated the data. I will now create a dataframe for this and name it listingsV3."
   ]
  },
  {
   "cell_type": "code",
   "execution_count": 10,
   "id": "53f695a9",
   "metadata": {},
   "outputs": [],
   "source": [
    "# listings V3:\n",
    "\n",
    "listingsv3 = pd.DataFrame(columns=['host_idSD', 'host_listings_countSD', 'reviews_per_monthSD', 'review_scores_ratingSD', 'priceSD'])"
   ]
  },
  {
   "cell_type": "code",
   "execution_count": 11,
   "id": "3f6e00b5",
   "metadata": {},
   "outputs": [],
   "source": [
    "# Adding host_idSD_array to the datafaram listingsv3\n",
    "\n",
    "listingsv3['host_idSD'] = host_idSD_array"
   ]
  },
  {
   "cell_type": "code",
   "execution_count": 12,
   "id": "d5a08cbe",
   "metadata": {},
   "outputs": [],
   "source": [
    "# Adding host_listings_countSD_array to the datafaram listingsv3\n",
    "\n",
    "listingsv3['host_listings_countSD'] = host_listings_countSD_array"
   ]
  },
  {
   "cell_type": "code",
   "execution_count": 13,
   "id": "e5648bca",
   "metadata": {},
   "outputs": [],
   "source": [
    "# Adding reviews_per_monthSD_array to the datafaram listingsv3\n",
    "\n",
    "listingsv3['reviews_per_monthSD'] = reviews_per_monthSD_array"
   ]
  },
  {
   "cell_type": "code",
   "execution_count": 14,
   "id": "3c31d5e9",
   "metadata": {},
   "outputs": [],
   "source": [
    "# Adding review_scores_ratingSD_array to the datafaram listingsv3\n",
    "\n",
    "listingsv3['review_scores_ratingSD'] = review_scores_ratingSD_array"
   ]
  },
  {
   "cell_type": "code",
   "execution_count": 15,
   "id": "ee7aa4f8",
   "metadata": {},
   "outputs": [],
   "source": [
    "# Adding priceSD_array to the datafaram listingsv3\n",
    "\n",
    "listingsv3['priceSD'] = priceSD_array"
   ]
  },
  {
   "cell_type": "code",
   "execution_count": 16,
   "id": "3b82734b",
   "metadata": {},
   "outputs": [
    {
     "data": {
      "text/plain": [
       "(100, 5)"
      ]
     },
     "execution_count": 16,
     "metadata": {},
     "output_type": "execute_result"
    }
   ],
   "source": [
    "listingsv3.shape"
   ]
  },
  {
   "cell_type": "code",
   "execution_count": 17,
   "id": "1bdd838a",
   "metadata": {},
   "outputs": [
    {
     "name": "stdout",
     "output_type": "stream",
     "text": [
      "<class 'pandas.core.frame.DataFrame'>\n",
      "RangeIndex: 100 entries, 0 to 99\n",
      "Data columns (total 5 columns):\n",
      " #   Column                  Non-Null Count  Dtype  \n",
      "---  ------                  --------------  -----  \n",
      " 0   host_idSD               100 non-null    int32  \n",
      " 1   host_listings_countSD   100 non-null    int32  \n",
      " 2   reviews_per_monthSD     100 non-null    float64\n",
      " 3   review_scores_ratingSD  100 non-null    float64\n",
      " 4   priceSD                 100 non-null    float64\n",
      "dtypes: float64(3), int32(2)\n",
      "memory usage: 3.2 KB\n"
     ]
    }
   ],
   "source": [
    "listingsv3.info()"
   ]
  },
  {
   "cell_type": "code",
   "execution_count": 18,
   "id": "4d8be63d",
   "metadata": {},
   "outputs": [
    {
     "data": {
      "text/html": [
       "<div>\n",
       "<style scoped>\n",
       "    .dataframe tbody tr th:only-of-type {\n",
       "        vertical-align: middle;\n",
       "    }\n",
       "\n",
       "    .dataframe tbody tr th {\n",
       "        vertical-align: top;\n",
       "    }\n",
       "\n",
       "    .dataframe thead th {\n",
       "        text-align: right;\n",
       "    }\n",
       "</style>\n",
       "<table border=\"1\" class=\"dataframe\">\n",
       "  <thead>\n",
       "    <tr style=\"text-align: right;\">\n",
       "      <th></th>\n",
       "      <th>host_idSD</th>\n",
       "      <th>host_listings_countSD</th>\n",
       "      <th>reviews_per_monthSD</th>\n",
       "      <th>review_scores_ratingSD</th>\n",
       "      <th>priceSD</th>\n",
       "    </tr>\n",
       "  </thead>\n",
       "  <tbody>\n",
       "    <tr>\n",
       "      <th>0</th>\n",
       "      <td>4832</td>\n",
       "      <td>1</td>\n",
       "      <td>28.909991</td>\n",
       "      <td>1.342004</td>\n",
       "      <td>387.565160</td>\n",
       "    </tr>\n",
       "    <tr>\n",
       "      <th>1</th>\n",
       "      <td>9567</td>\n",
       "      <td>24</td>\n",
       "      <td>91.638692</td>\n",
       "      <td>1.359435</td>\n",
       "      <td>393.704094</td>\n",
       "    </tr>\n",
       "    <tr>\n",
       "      <th>2</th>\n",
       "      <td>1437</td>\n",
       "      <td>40</td>\n",
       "      <td>12.056645</td>\n",
       "      <td>3.235383</td>\n",
       "      <td>100.455001</td>\n",
       "    </tr>\n",
       "    <tr>\n",
       "      <th>3</th>\n",
       "      <td>5627</td>\n",
       "      <td>39</td>\n",
       "      <td>55.167795</td>\n",
       "      <td>2.237731</td>\n",
       "      <td>375.298190</td>\n",
       "    </tr>\n",
       "    <tr>\n",
       "      <th>4</th>\n",
       "      <td>6695</td>\n",
       "      <td>34</td>\n",
       "      <td>79.709520</td>\n",
       "      <td>2.127817</td>\n",
       "      <td>417.495311</td>\n",
       "    </tr>\n",
       "  </tbody>\n",
       "</table>\n",
       "</div>"
      ],
      "text/plain": [
       "   host_idSD  host_listings_countSD  reviews_per_monthSD  \\\n",
       "0       4832                      1            28.909991   \n",
       "1       9567                     24            91.638692   \n",
       "2       1437                     40            12.056645   \n",
       "3       5627                     39            55.167795   \n",
       "4       6695                     34            79.709520   \n",
       "\n",
       "   review_scores_ratingSD     priceSD  \n",
       "0                1.342004  387.565160  \n",
       "1                1.359435  393.704094  \n",
       "2                3.235383  100.455001  \n",
       "3                2.237731  375.298190  \n",
       "4                2.127817  417.495311  "
      ]
     },
     "execution_count": 18,
     "metadata": {},
     "output_type": "execute_result"
    }
   ],
   "source": [
    "listingsv3.head()"
   ]
  },
  {
   "cell_type": "code",
   "execution_count": 19,
   "id": "4bd54137",
   "metadata": {},
   "outputs": [],
   "source": [
    "# numpy.random.seed: Adding this in for illustrative purposes\n",
    "\n",
    "# setting the seed at 42,\n",
    "\n",
    "rng = np.random.default_rng(seed=42)"
   ]
  },
  {
   "cell_type": "code",
   "execution_count": 20,
   "id": "dab4ea5d",
   "metadata": {},
   "outputs": [],
   "source": [
    "# numpy.random.seed continued\n",
    "\n",
    "# selecting a set of 15 random numbers\n",
    "\n",
    "z = rng.random((5,3))"
   ]
  },
  {
   "cell_type": "code",
   "execution_count": 21,
   "id": "6bf4daaa",
   "metadata": {},
   "outputs": [
    {
     "name": "stdout",
     "output_type": "stream",
     "text": [
      "[[0.77395605 0.43887844 0.85859792]\n",
      " [0.69736803 0.09417735 0.97562235]\n",
      " [0.7611397  0.78606431 0.12811363]\n",
      " [0.45038594 0.37079802 0.92676499]\n",
      " [0.64386512 0.82276161 0.4434142 ]]\n"
     ]
    }
   ],
   "source": [
    "# numpy.random.seed continued\n",
    "\n",
    "print(z)"
   ]
  },
  {
   "cell_type": "code",
   "execution_count": 22,
   "id": "588231ce",
   "metadata": {},
   "outputs": [
    {
     "data": {
      "text/plain": [
       "count     100.000000\n",
       "mean     5554.350000\n",
       "std      2677.716581\n",
       "min      1185.000000\n",
       "25%      3520.750000\n",
       "50%      5541.500000\n",
       "75%      7780.000000\n",
       "max      9950.000000\n",
       "Name: host_idSD, dtype: float64"
      ]
     },
     "execution_count": 22,
     "metadata": {},
     "output_type": "execute_result"
    }
   ],
   "source": [
    "# Using DataFrame.describe() method to get my statistical analysis for listingv3 dataframe\n",
    "\n",
    "host_idSD_stats = listingsv3.loc[:,'host_idSD']\n",
    "host_idSD_stats.describe()"
   ]
  },
  {
   "cell_type": "code",
   "execution_count": 23,
   "id": "6dd09661",
   "metadata": {},
   "outputs": [
    {
     "data": {
      "text/plain": [
       "count    100.000000\n",
       "mean      23.900000\n",
       "std       14.312176\n",
       "min        1.000000\n",
       "25%       14.000000\n",
       "50%       23.000000\n",
       "75%       36.000000\n",
       "max       49.000000\n",
       "Name: host_listings_countSD, dtype: float64"
      ]
     },
     "execution_count": 23,
     "metadata": {},
     "output_type": "execute_result"
    }
   ],
   "source": [
    "# Using DataFrame.describe() method to get my statistical analysis for listingv3 dataframe\n",
    "\n",
    "host_listings_countSD_stats = listingsv3.loc[:,'host_listings_countSD']\n",
    "host_listings_countSD_stats.describe()"
   ]
  },
  {
   "cell_type": "code",
   "execution_count": 24,
   "id": "7ef29fc8",
   "metadata": {},
   "outputs": [
    {
     "data": {
      "text/plain": [
       "count    100.000000\n",
       "mean      50.652705\n",
       "std       29.328001\n",
       "min        1.135423\n",
       "25%       27.496987\n",
       "50%       50.063340\n",
       "75%       75.484422\n",
       "max       98.902033\n",
       "Name: reviews_per_monthSD, dtype: float64"
      ]
     },
     "execution_count": 24,
     "metadata": {},
     "output_type": "execute_result"
    }
   ],
   "source": [
    "# Using DataFrame.describe() method to get my statistical analysis for listingv3 dataframe\n",
    "\n",
    "reviews_per_monthSD_stats = listingsv3.loc[:,'reviews_per_monthSD']\n",
    "reviews_per_monthSD_stats.describe()"
   ]
  },
  {
   "cell_type": "code",
   "execution_count": 25,
   "id": "95faf201",
   "metadata": {},
   "outputs": [
    {
     "data": {
      "text/plain": [
       "count    100.000000\n",
       "mean       2.718538\n",
       "std        1.144945\n",
       "min        1.049082\n",
       "25%        1.611675\n",
       "50%        2.481519\n",
       "75%        3.685660\n",
       "max        4.997985\n",
       "Name: review_scores_ratingSD, dtype: float64"
      ]
     },
     "execution_count": 25,
     "metadata": {},
     "output_type": "execute_result"
    }
   ],
   "source": [
    "# Using DataFrame.describe() method to get my statistical analysis for listingv3 dataframe\n",
    "\n",
    "review_scores_ratingSD_stats = listingsv3.loc[:,'review_scores_ratingSD']\n",
    "review_scores_ratingSD_stats.describe()"
   ]
  },
  {
   "cell_type": "code",
   "execution_count": 26,
   "id": "56b5ce5b",
   "metadata": {},
   "outputs": [
    {
     "data": {
      "text/plain": [
       "count    100.000000\n",
       "mean     301.254565\n",
       "std      126.115013\n",
       "min      100.455001\n",
       "25%      184.187734\n",
       "50%      311.848113\n",
       "75%      416.273866\n",
       "max      493.058357\n",
       "Name: priceSD, dtype: float64"
      ]
     },
     "execution_count": 26,
     "metadata": {},
     "output_type": "execute_result"
    }
   ],
   "source": [
    "# Using DataFrame.describe() method to get my statistical analysis for listingv3 dataframe\n",
    "\n",
    "priceSD_stats = listingsv3.loc[:,'priceSD']\n",
    "priceSD_stats.describe()"
   ]
  },
  {
   "cell_type": "markdown",
   "id": "c5abeb73",
   "metadata": {},
   "source": [
    "At this point I have my statistical analysis for each variable in the original dataset and have now got the same for my simulated dataset."
   ]
  },
  {
   "cell_type": "markdown",
   "id": "76d3134a",
   "metadata": {},
   "source": [
    "### Step 3B: Simulating data and Random Samples - Using Scikit learn"
   ]
  },
  {
   "cell_type": "markdown",
   "id": "4c789b6d",
   "metadata": {},
   "source": [
    "Scikit-learn: A machine learning library that provides almost all the machine learning algorithms you might need. Schikit-learn is designed to be interpolated into NumPy and SciPy."
   ]
  },
  {
   "cell_type": "code",
   "execution_count": 3,
   "id": "43fa1a6e",
   "metadata": {},
   "outputs": [
    {
     "name": "stdout",
     "output_type": "stream",
     "text": [
      "Feature Matrix: \n",
      "   host_id_v2  host_listings_count_v2  reviews_per_month_v2  \\\n",
      "0   -1.904755                0.220892             -0.674106   \n",
      "1   -0.624866                1.658269              0.865887   \n",
      "2   -0.220107               -1.040238             -0.093203   \n",
      "3    0.951059               -0.371344              1.231066   \n",
      "4   -1.802986                0.414018             -1.886288   \n",
      "\n",
      "   review_score_rating_v2  price_v2  \n",
      "0               -0.243172  0.209275  \n",
      "1               -1.818129 -0.311116  \n",
      "2                0.591169  1.322630  \n",
      "3                1.438163  1.260309  \n",
      "4               -1.063846  1.374012  \n",
      "\n",
      "Target Class: \n"
     ]
    }
   ],
   "source": [
    "# Step 1 - Import libraries\n",
    "from sklearn.datasets import make_classification\n",
    "import pandas as pd\n",
    "\n",
    "# Create simulated data\n",
    "features, output = make_classification(n_samples = 50,\n",
    "                                       n_features = 5,\n",
    "                                       n_informative = 5,\n",
    "                                       n_redundant = 0,\n",
    "                                       n_classes = 3,\n",
    "                                       weights = [1, 1, 1])\n",
    "\n",
    "print(\"Feature Matrix: \");\n",
    "# renaming my selected variables with a 'V2' added to name in order to distinguish between my original data and new data\n",
    "print(pd.DataFrame(features, columns=[\"host_id_v2\", \"host_listings_count_v2\", \"reviews_per_month_v2\", \"review_score_rating_v2\", \"price_v2\"]).head())\n",
    "\n",
    "print()\n",
    "print(\"Target Class: \");"
   ]
  },
  {
   "cell_type": "code",
   "execution_count": 3,
   "id": "bc9d78b9",
   "metadata": {},
   "outputs": [
    {
     "name": "stdout",
     "output_type": "stream",
     "text": [
      "[0.76105281 0.08706881 0.67200487 ... 0.32221781 0.8719404  0.56074969]\n"
     ]
    }
   ],
   "source": [
    "# Draw random samples from a normal (Gaussian) distribution of 'review_scores_rating'\n",
    "\n",
    "# Parameters:\n",
    "#               loc : mean (4.603239)\n",
    "#               scale: standard deviation of the distribution (0.771441)\n",
    "#               size: integer or tuple, outs shape (none).\n",
    "\n",
    "rng = np.random.default_rng()\n",
    "x = rng.random(6209)\n",
    "print(x)"
   ]
  },
  {
   "cell_type": "code",
   "execution_count": 5,
   "id": "cd9561c2",
   "metadata": {},
   "outputs": [],
   "source": [
    "# Normal (Gaussian) distribution of 'review_scores_rating' continued\n",
    "\n",
    "y = np.random.normal(4.603239, 0.771441,6209)"
   ]
  },
  {
   "cell_type": "code",
   "execution_count": 4,
   "id": "9c3e5df9",
   "metadata": {},
   "outputs": [
    {
     "data": {
      "image/png": "[encoded data removed]",
      "text/plain": [
       "<Figure size 432x288 with 1 Axes>"
      ]
     },
     "metadata": {
      "needs_background": "light"
     },
     "output_type": "display_data"
    }
   ],
   "source": [
    "# Normal (Gaussian) distribution of 'review_scores_rating' continued\n",
    "\n",
    "plt.hist(x)\n",
    "plt.show()"
   ]
  },
  {
   "cell_type": "code",
   "execution_count": 10,
   "id": "e4cec165",
   "metadata": {},
   "outputs": [
    {
     "data": {
      "image/png": "[encoded data removed]",
      "text/plain": [
       "<Figure size 432x288 with 1 Axes>"
      ]
     },
     "metadata": {
      "needs_background": "light"
     },
     "output_type": "display_data"
    }
   ],
   "source": [
    "# Normal (Gaussian) distribution of 'review_scores_rating' continued\n",
    "\n",
    "# plotting histogram with title and labels\n",
    "\n",
    "plt.title(\"Normal Distribution of 'review_scores_rating'\")\n",
    "plt.xlabel(\"No of Standard Deviations from the mean\")\n",
    "plt.ylabel(\"Frequency\")\n",
    "\n",
    "plt.hist(y)\n",
    "plt.show()"
   ]
  },
  {
   "cell_type": "markdown",
   "id": "3df55a81",
   "metadata": {},
   "source": [
    "### Scikit learn: Nearest neighbor"
   ]
  },
  {
   "cell_type": "markdown",
   "id": "a228f1f4",
   "metadata": {},
   "source": [
    "#### Inputs and Outputs\n",
    "---"
   ]
  },
  {
   "cell_type": "code",
   "execution_count": 17,
   "id": "ecf67394",
   "metadata": {},
   "outputs": [],
   "source": [
    "# removed 'price', 'review_scores_rating'\n",
    "\n",
    "inputs = listingsDF[['host_id', 'latitude', 'longitude']]\n",
    "outputs = listingsDF['id']"
   ]
  },
  {
   "cell_type": "markdown",
   "id": "5e53d4ed",
   "metadata": {},
   "source": [
    "#### Classifier\n",
    "---"
   ]
  },
  {
   "cell_type": "code",
   "execution_count": 18,
   "id": "1c0de10e",
   "metadata": {},
   "outputs": [],
   "source": [
    "# from sklearn.neighbors import KNeighborsClassifier - this has been imported at top of page, also leaving here to demonstrate its use.\n",
    "\n",
    "knn = nei.KNeighborsClassifier(n_neighbors=4)\n",
    "#import sklearn.neighbors as nei"
   ]
  },
  {
   "cell_type": "markdown",
   "id": "9744124b",
   "metadata": {},
   "source": [
    "#### Fit\n",
    "---"
   ]
  },
  {
   "cell_type": "code",
   "execution_count": 19,
   "id": "1f951629",
   "metadata": {},
   "outputs": [
    {
     "data": {
      "text/plain": [
       "KNeighborsClassifier(n_neighbors=4)"
      ]
     },
     "execution_count": 19,
     "metadata": {},
     "output_type": "execute_result"
    }
   ],
   "source": [
    "knn.fit(inputs, outputs)"
   ]
  },
  {
   "cell_type": "markdown",
   "id": "cbb3b3c5",
   "metadata": {},
   "source": [
    "#### Predict\n",
    "---"
   ]
  },
  {
   "cell_type": "code",
   "execution_count": 20,
   "id": "25633f1a",
   "metadata": {
    "scrolled": true
   },
   "outputs": [
    {
     "data": {
      "text/plain": [
       "id                                                                           44077\n",
       "listing_url                                     https://www.airbnb.com/rooms/44077\n",
       "scrape_id                                                           20220911231053\n",
       "last_scraped                                                            2022-09-12\n",
       "source                                                                 city scrape\n",
       "                                                               ...                \n",
       "calculated_host_listings_count                                                   2\n",
       "calculated_host_listings_count_entire_homes                                      0\n",
       "calculated_host_listings_count_private_rooms                                     2\n",
       "calculated_host_listings_count_shared_rooms                                      0\n",
       "reviews_per_month                                                             1.85\n",
       "Name: 0, Length: 75, dtype: object"
      ]
     },
     "execution_count": 20,
     "metadata": {},
     "output_type": "execute_result"
    }
   ],
   "source": [
    "listingsDF.loc[0]"
   ]
  },
  {
   "cell_type": "code",
   "execution_count": 66,
   "id": "d43afcc5",
   "metadata": {},
   "outputs": [
    {
     "data": {
      "text/plain": [
       "array([2635493], dtype=int64)"
      ]
     },
     "execution_count": 66,
     "metadata": {},
     "output_type": "execute_result"
    }
   ],
   "source": [
    "# preditings the 'id'\n",
    "\n",
    "knn.predict([[0.352965,0.872357,1.343674]])"
   ]
  },
  {
   "cell_type": "code",
   "execution_count": 34,
   "id": "fd40b0bb",
   "metadata": {},
   "outputs": [
    {
     "data": {
      "text/plain": [
       "Text(0, 0.5, 'Price')"
      ]
     },
     "execution_count": 34,
     "metadata": {},
     "output_type": "execute_result"
    },
    {
     "data": {
      "image/png": "[encoded data removed]",
      "text/plain": [
       "<Figure size 432x288 with 1 Axes>"
      ]
     },
     "metadata": {
      "needs_background": "light"
     },
     "output_type": "display_data"
    }
   ],
   "source": [
    "plt.scatter('review_scores_ratingSD','priceSD', data=listingsv3)\n",
    "\n",
    "plt.title(\"Ratings versus Price\")\n",
    "plt.xlabel(\"Ratings\")\n",
    "plt.ylabel(\"Price\")"
   ]
  },
  {
   "cell_type": "markdown",
   "id": "3241bfc9",
   "metadata": {},
   "source": [
    "### Results:"
   ]
  },
  {
   "cell_type": "markdown",
   "id": "6f697d77",
   "metadata": {},
   "source": [
    "#### host_id\n",
    "---\n",
    "\n",
    "| Describ() | Original Dataset | Synthetic Dataset |\n",
    "| --- | --- | --- |\n",
    "| count | 7.566000 | 100 |\n",
    "| mean | 1.165346 | 6038.330000 |\n",
    "| std | 1.257774 | 2422.104098 |\n",
    "| min | 4.398400 | 1147.000000 |\n",
    "| 25% | 2.500539 | 4304.500000 |\n",
    "| 50% | 6.773535 | 6373.000000 |\n",
    "| 75% | 1.624988 | 8007.000000 |\n",
    "| max | 4.787894 | 9971.000000 |"
   ]
  },
  {
   "cell_type": "markdown",
   "id": "74225a85",
   "metadata": {},
   "source": [
    "#### host_listings_count\n",
    "---\n",
    "\n",
    "| Describ() | Original Dataset | Synthetic Dataset |\n",
    "| --- | --- | --- |\n",
    "| count | 7566.000000 | 100 |\n",
    "| mean | 24.575601 | 22.820000 |\n",
    "| std | 202.623363 | 13.998831 |\n",
    "| min | 1.000000 | 1.000000 |\n",
    "| 25% | 1.000000 | 11.000000 |\n",
    "| 50% | 1.000000 | 22.000000 |\n",
    "| 75% | 3.000000 | 34.000000 |\n",
    "| max | 2157.000000 | 49.000000 |"
   ]
  },
  {
   "cell_type": "markdown",
   "id": "0b276045",
   "metadata": {},
   "source": [
    "#### reviews_per_month\n",
    "---\n",
    "\n",
    "| Describ() | Original Dataset | Synthetic Dataset |\n",
    "| --- | --- | --- |\n",
    "| count | 6209.000000 | 100 |\n",
    "| mean | 1.319006 | 53.744573 |\n",
    "| std | 1.988691 | 28.060905 |\n",
    "| min | 0.010000 | 1.202614 |\n",
    "| 25% | 0.130000 | 26.818408 |\n",
    "| 50% | 0.610000 | 59.083819 |\n",
    "| 75% | 1.760000 | 77.819028 |\n",
    "| max | 44.720000 | 99.516934 |"
   ]
  },
  {
   "cell_type": "markdown",
   "id": "01cd2b64",
   "metadata": {},
   "source": [
    "#### reviews_scores_ratings\n",
    "---\n",
    "\n",
    "| Describ() | Original Dataset | Synthetic Dataset |\n",
    "| --- | --- | --- |\n",
    "| count | 6209.000000 | 100 |\n",
    "| mean | 4.603239 | 2.901987 |\n",
    "| std | 0.771441 | 1.209401 |\n",
    "| min |  0.000000 | 1.016525 |\n",
    "| 25% | 4.560000 | 1.876755 |\n",
    "| 50% | 4.810000 | 2.785898 |\n",
    "| 75% | 5.000000 | 3.991236 |\n",
    "| max | 5.000000 | 4.971983 |"
   ]
  },
  {
   "cell_type": "markdown",
   "id": "f9a234ac",
   "metadata": {},
   "source": [
    "#### price\n",
    "---\n",
    "\n",
    "| Describ() | Original Dataset | Synthetic Dataset |\n",
    "| --- | --- | --- |\n",
    "| count | 7566 | 100 |\n",
    "| mean | 0 | 309.651453 |\n",
    "| std | 0 | 116.185075 |\n",
    "| min | 0 | 105.052764 |\n",
    "| 25% | 0 | 201.338561 |\n",
    "| 50% | 0 | 322.969872 |\n",
    "| 75% | 0 | 413.006711 |\n",
    "| max | 0 | 498.986464 |"
   ]
  },
  {
   "cell_type": "markdown",
   "id": "11887dde",
   "metadata": {},
   "source": [
    "### Distributions:\n",
    "\n",
    "#### lognormal:\n",
    "#### numpy.random.Generator.lognormal\n",
    "\n",
    "---"
   ]
  },
  {
   "cell_type": "code",
   "execution_count": 8,
   "id": "45bf596d",
   "metadata": {},
   "outputs": [],
   "source": [
    "rng = np.random.default_rng()\n",
    "mu, sigma = 24., 14. # mean and standard deviation\n",
    "s = rng.lognormal(mu, sigma, 1000)"
   ]
  },
  {
   "cell_type": "code",
   "execution_count": 9,
   "id": "c2f69aed",
   "metadata": {},
   "outputs": [
    {
     "data": {
      "image/png": "[encoded data removed]",
      "text/plain": [
       "<Figure size 432x288 with 1 Axes>"
      ]
     },
     "metadata": {
      "needs_background": "light"
     },
     "output_type": "display_data"
    }
   ],
   "source": [
    "import matplotlib.pyplot as plt\n",
    "count, bins, ignored = plt.hist(s, 100, density=True, align='mid')"
   ]
  },
  {
   "cell_type": "code",
   "execution_count": 10,
   "id": "78f259d9",
   "metadata": {},
   "outputs": [],
   "source": [
    "x = np.linspace(min(bins), max(bins), 10000)\n",
    "pdf = (np.exp(-(np.log(x) - mu)**2 / (2 * sigma**2))\n",
    "       / (x * sigma * np.sqrt(2 * np.pi)))"
   ]
  },
  {
   "cell_type": "code",
   "execution_count": 11,
   "id": "2cfa502e",
   "metadata": {},
   "outputs": [
    {
     "data": {
      "image/png": "[encoded data removed]",
      "text/plain": [
       "<Figure size 432x288 with 1 Axes>"
      ]
     },
     "metadata": {
      "needs_background": "light"
     },
     "output_type": "display_data"
    }
   ],
   "source": [
    "plt.plot(x, pdf, linewidth=2, color='r')\n",
    "plt.axis('tight')\n",
    "plt.show()"
   ]
  },
  {
   "cell_type": "code",
   "execution_count": 12,
   "id": "7a232717",
   "metadata": {},
   "outputs": [],
   "source": [
    "# Generate a thousand samples: each is the product of 100 random\n",
    "# values, drawn from a normal distribution.\n",
    "rng = rng\n",
    "b = []\n",
    "for i in range(1000):\n",
    "   a = 10. + rng.standard_normal(100)\n",
    "   b.append(np.product(a))"
   ]
  },
  {
   "cell_type": "code",
   "execution_count": 13,
   "id": "8c676055",
   "metadata": {},
   "outputs": [
    {
     "data": {
      "image/png": "[encoded data removed]",
      "text/plain": [
       "<Figure size 432x288 with 1 Axes>"
      ]
     },
     "metadata": {
      "needs_background": "light"
     },
     "output_type": "display_data"
    }
   ],
   "source": [
    "b = np.array(b) / np.min(b) # scale values to be positive\n",
    "count, bins, ignored = plt.hist(b, 100, density=True, align='mid')\n",
    "sigma = np.std(np.log(b))\n",
    "mu = np.mean(np.log(b))"
   ]
  },
  {
   "cell_type": "code",
   "execution_count": 14,
   "id": "8996f1b0",
   "metadata": {},
   "outputs": [],
   "source": [
    "x = np.linspace(min(bins), max(bins), 10000)\n",
    "pdf = (np.exp(-(np.log(x) - mu)**2 / (2 * sigma**2))\n",
    "       / (x * sigma * np.sqrt(2 * np.pi)))"
   ]
  },
  {
   "cell_type": "code",
   "execution_count": 15,
   "id": "d3c7f2ba",
   "metadata": {},
   "outputs": [
    {
     "data": {
      "image/png": "[encoded data removed]",
      "text/plain": [
       "<Figure size 432x288 with 1 Axes>"
      ]
     },
     "metadata": {
      "needs_background": "light"
     },
     "output_type": "display_data"
    }
   ],
   "source": [
    "plt.plot(x, pdf, color='r', linewidth=2)\n",
    "plt.show()"
   ]
  },
  {
   "cell_type": "markdown",
   "id": "6ab2d93e",
   "metadata": {},
   "source": [
    "### Conclusion"
   ]
  },
  {
   "cell_type": "code",
   "execution_count": null,
   "id": "491b4953",
   "metadata": {},
   "outputs": [],
   "source": []
  },
  {
   "cell_type": "markdown",
   "id": "79b2e7c2",
   "metadata": {},
   "source": [
    "![Image](https://qtxasset.com/cdn-cgi/image/w=850,h=478,f=auto,fit=crop,g=0.5x0.5/https://qtxasset.com/quartz/qcloud1/media/image/hotelmanagement/1546632060/Airbnb%20Logo.png/Airbnb%20Logo.png?VersionId=ThlQLEp0zFaHTe_93YSLwNNOHeweU0sd)"
   ]
  }
 ],
 "metadata": {
  "kernelspec": {
   "display_name": "Python 3 (ipykernel)",
   "language": "python",
   "name": "python3"
  },
  "language_info": {
   "codemirror_mode": {
    "name": "ipython",
    "version": 3
   },
   "file_extension": ".py",
   "mimetype": "text/x-python",
   "name": "python",
   "nbconvert_exporter": "python",
   "pygments_lexer": "ipython3",
   "version": "3.9.7"
  }
 },
 "nbformat": 4,
 "nbformat_minor": 5
}
